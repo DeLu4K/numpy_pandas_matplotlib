{
  "nbformat": 4,
  "nbformat_minor": 0,
  "metadata": {
    "colab": {
      "provenance": []
    },
    "kernelspec": {
      "name": "python3",
      "display_name": "Python 3"
    },
    "language_info": {
      "name": "python"
    }
  },
  "cells": [
    {
      "cell_type": "markdown",
      "source": [
        "# Programació d'intel·ligència artificial. Tasca del Lliurament 2\n",
        "\n",
        "Aquest és l'enunciat de la tasca del segon lliurament de Programació d'Intel·ligència Artificial. Es refereix a les tres llibreries que hi hem tractat: **NumPy**, **pandas**, i **matplotlib**. Consta de tres blocs corresponents a cada una de les llibreries. Cada bloc val un terç de la nota de la tasca.\n",
        "\n",
        "Quan hàgiu acabat de realitzar la tasca, davallau el document .ipynb (menú File, opció Download) i lliurau-lo dins el Moodle de l'aula virtual.\n",
        "\n",
        "Ànims i endavant!"
      ],
      "metadata": {
        "id": "DvSS_CFFacl2"
      }
    },
    {
      "cell_type": "markdown",
      "source": [
        "##Bloc 1: NumPy\n",
        "\n",
        "Emplena el codi corresponent a cada subapartat, tenint en compte que, quan sigui possible, és millor emprar la programació vectoritzada i les funcions universals de NumPy."
      ],
      "metadata": {
        "id": "gpStVTPja5NB"
      }
    },
    {
      "cell_type": "markdown",
      "source": [
        "### 1.1. *`ndarrays`* unidimensionals (vectors)\n"
      ],
      "metadata": {
        "id": "Z07rUFLwD8W8"
      }
    },
    {
      "cell_type": "markdown",
      "source": [
        "**1.1.1.** Per començar, importa la llibreria numpy amb el seu nom habitual.\n",
        "\n",
        "Crea un ndarray unidimensional (vector), anomentat a1, de 10 posicions i omple'l amb els 10 primers nombres naturals (de l'1 al 10), però en ordre invers (del 10 a l'1)"
      ],
      "metadata": {
        "id": "nncrh1jXJZJp"
      }
    },
    {
      "cell_type": "code",
      "execution_count": null,
      "metadata": {
        "id": "CqAhn9yyaaVF",
        "colab": {
          "base_uri": "https://localhost:8080/"
        },
        "outputId": "fa473456-74e9-415d-fecf-073f14ee1c70"
      },
      "outputs": [
        {
          "output_type": "execute_result",
          "data": {
            "text/plain": [
              "array([10,  9,  8,  7,  6,  5,  4,  3,  2,  1])"
            ]
          },
          "metadata": {},
          "execution_count": 26
        }
      ],
      "source": [
        "import numpy as np\n",
        "\n",
        "a1 = np.arange(10, 0, -1)\n",
        "a1\n",
        "\n"
      ]
    },
    {
      "cell_type": "markdown",
      "source": [
        "**1.1.2.** Crea un altre vector de 10 posicions, a2, i omple'l amb els 10 primers nombres parells."
      ],
      "metadata": {
        "id": "OraK-zNNJiAi"
      }
    },
    {
      "cell_type": "code",
      "source": [
        "a2 = np.arange(2, 21, 2)\n",
        "a2"
      ],
      "metadata": {
        "id": "Q-7eb8ybKNRS",
        "colab": {
          "base_uri": "https://localhost:8080/"
        },
        "outputId": "1da7585d-b350-4dc8-955a-60557c4a4294"
      },
      "execution_count": null,
      "outputs": [
        {
          "output_type": "execute_result",
          "data": {
            "text/plain": [
              "array([ 2,  4,  6,  8, 10, 12, 14, 16, 18, 20])"
            ]
          },
          "metadata": {},
          "execution_count": 27
        }
      ]
    },
    {
      "cell_type": "markdown",
      "source": [
        "**1.1.3.** Multiplica per 5 tots els valors del vector a1."
      ],
      "metadata": {
        "id": "rbASvDeGJiKZ"
      }
    },
    {
      "cell_type": "code",
      "source": [
        "a1 *= 5\n",
        "a1"
      ],
      "metadata": {
        "id": "H66mfIoyKOUa",
        "colab": {
          "base_uri": "https://localhost:8080/"
        },
        "outputId": "5c74fff1-5bdb-43df-d287-0d15ee57e16e"
      },
      "execution_count": null,
      "outputs": [
        {
          "output_type": "execute_result",
          "data": {
            "text/plain": [
              "array([50, 45, 40, 35, 30, 25, 20, 15, 10,  5])"
            ]
          },
          "metadata": {},
          "execution_count": 28
        }
      ]
    },
    {
      "cell_type": "markdown",
      "source": [
        "**1.1.4.** Obté un nou vector, a3, que sigui la suma d'a1 i a2."
      ],
      "metadata": {
        "id": "EEYYz5DRJibQ"
      }
    },
    {
      "cell_type": "code",
      "source": [
        "a3 = a1 + a2\n",
        "a3"
      ],
      "metadata": {
        "id": "CWdTypsWKO7S",
        "colab": {
          "base_uri": "https://localhost:8080/"
        },
        "outputId": "cf8ef848-9b7c-408e-fca6-85a0268be826"
      },
      "execution_count": null,
      "outputs": [
        {
          "output_type": "execute_result",
          "data": {
            "text/plain": [
              "array([52, 49, 46, 43, 40, 37, 34, 31, 28, 25])"
            ]
          },
          "metadata": {},
          "execution_count": 29
        }
      ]
    },
    {
      "cell_type": "markdown",
      "source": [
        "**1.1.5.** Obté un nou vector, a4, que sigui la resta d'a1 i a2."
      ],
      "metadata": {
        "id": "rareGAWfJioJ"
      }
    },
    {
      "cell_type": "code",
      "source": [
        "a4 = a1 - a2\n",
        "a4"
      ],
      "metadata": {
        "id": "7tMQQe39KPjy",
        "colab": {
          "base_uri": "https://localhost:8080/"
        },
        "outputId": "bb6dd54f-2fa3-447c-f27e-04a0c55836f1"
      },
      "execution_count": null,
      "outputs": [
        {
          "output_type": "execute_result",
          "data": {
            "text/plain": [
              "array([ 48,  41,  34,  27,  20,  13,   6,  -1,  -8, -15])"
            ]
          },
          "metadata": {},
          "execution_count": 30
        }
      ]
    },
    {
      "cell_type": "markdown",
      "source": [
        "**1.1.6.** Canvia de signe tots els valors imparells d'a3 i a4."
      ],
      "metadata": {
        "id": "OzJnluijJiyR"
      }
    },
    {
      "cell_type": "code",
      "source": [
        "a3[a3 % 2 != 0] = np.negative(a3[a3 % 2 != 0])\n",
        "print(a3)\n",
        "a4[a4 % 2 != 0] = np.negative(a4[a4 % 2 != 0])\n",
        "print(a4)"
      ],
      "metadata": {
        "id": "DGddKysFKQai",
        "colab": {
          "base_uri": "https://localhost:8080/"
        },
        "outputId": "c173b514-f302-4e89-a173-abad04e8f630"
      },
      "execution_count": null,
      "outputs": [
        {
          "output_type": "stream",
          "name": "stdout",
          "text": [
            "[ 52 -49  46 -43  40 -37  34 -31  28 -25]\n",
            "[ 48 -41  34 -27  20 -13   6   1  -8  15]\n"
          ]
        }
      ]
    },
    {
      "cell_type": "markdown",
      "source": [
        "**1.1.7.** Obté un nou vector, a5, que contengui el mínim de cada posició entre els vectors a3 i a4."
      ],
      "metadata": {
        "id": "7YUeTAHDJ6GK"
      }
    },
    {
      "cell_type": "code",
      "source": [
        "a5 = np.minimum(a3, a4)\n",
        "a5"
      ],
      "metadata": {
        "id": "vmXL9lzsKRHy",
        "colab": {
          "base_uri": "https://localhost:8080/"
        },
        "outputId": "361c6446-cb5f-41c8-99e4-53c5bccf5416"
      },
      "execution_count": null,
      "outputs": [
        {
          "output_type": "execute_result",
          "data": {
            "text/plain": [
              "array([ 48, -49,  34, -43,  20, -37,   6, -31,  -8, -25])"
            ]
          },
          "metadata": {},
          "execution_count": 32
        }
      ]
    },
    {
      "cell_type": "markdown",
      "source": [
        "**1.1.8.** Fes que tots els valors d'a5 siguin positius."
      ],
      "metadata": {
        "id": "yhLeCsMjJ6RJ"
      }
    },
    {
      "cell_type": "code",
      "source": [
        "a5 = np.abs(a5)\n",
        "a5"
      ],
      "metadata": {
        "id": "p4jHZUkjKRti",
        "colab": {
          "base_uri": "https://localhost:8080/"
        },
        "outputId": "05ab3e5f-de2c-4792-fc49-f01a3a743ba6"
      },
      "execution_count": null,
      "outputs": [
        {
          "output_type": "execute_result",
          "data": {
            "text/plain": [
              "array([48, 49, 34, 43, 20, 37,  6, 31,  8, 25])"
            ]
          },
          "metadata": {},
          "execution_count": 33
        }
      ]
    },
    {
      "cell_type": "markdown",
      "source": [
        "###1.2. *`ndarrays`* multidimensionals (matrius)\n"
      ],
      "metadata": {
        "id": "chq_IGmmL6Hb"
      }
    },
    {
      "cell_type": "markdown",
      "source": [
        "**1.2.1.** Crea un ndarray de 2 dimensions (matriu) de 10 files i 4 columnes, anomenada m1 i omple-a amb nombres aleatoris, seguint una distribució normal estàndard."
      ],
      "metadata": {
        "id": "As79s4QoKuOz"
      }
    },
    {
      "cell_type": "code",
      "source": [
        "m1 = np.random.randn(10, 4)\n",
        "m1\n"
      ],
      "metadata": {
        "id": "5E5KUDTdLU9a",
        "colab": {
          "base_uri": "https://localhost:8080/"
        },
        "outputId": "f4e8804a-e552-489e-d910-e948c7f1a0a7"
      },
      "execution_count": null,
      "outputs": [
        {
          "output_type": "execute_result",
          "data": {
            "text/plain": [
              "array([[-1.03312809, -0.20144232, -0.78334759,  0.55236927],\n",
              "       [-1.23288626,  0.01053138,  0.03383713, -0.39922288],\n",
              "       [-0.29348085,  1.20479638,  0.84028095, -0.74979565],\n",
              "       [ 1.14136504,  1.32308039, -2.16555941,  0.60806544],\n",
              "       [ 1.36670567,  0.77296238, -1.54007054, -1.9060139 ],\n",
              "       [ 1.70701186, -1.31385572,  0.68999142,  0.61435118],\n",
              "       [ 2.93775043, -0.66619198, -1.28079472,  0.48301495],\n",
              "       [ 0.31583471,  1.39474997, -0.36409837, -1.52050048],\n",
              "       [-0.28504905,  0.06309549,  0.90692339, -0.70736442],\n",
              "       [-0.68966879, -1.60426554,  0.43789695, -1.37295883]])"
            ]
          },
          "metadata": {},
          "execution_count": 34
        }
      ]
    },
    {
      "cell_type": "markdown",
      "source": [
        "**1.2.2.** Obté una nova matriu, m2. Els valors de les 5 primers files seran el doble dels de les 5 primeres files de m1. Els de les 5 darreres files, el triple."
      ],
      "metadata": {
        "id": "6hRqmDoTKuYB"
      }
    },
    {
      "cell_type": "code",
      "source": [
        "m2 = np.zeros((10, 4))\n",
        "m2[:5] = m1[:5] * 2\n",
        "m2[5:] = m1[5:] * 3\n",
        "m2"
      ],
      "metadata": {
        "id": "nZfgKO21LWB5",
        "colab": {
          "base_uri": "https://localhost:8080/"
        },
        "outputId": "d2705d95-0ea6-4c69-f2a1-184c3c5b8adb"
      },
      "execution_count": null,
      "outputs": [
        {
          "output_type": "execute_result",
          "data": {
            "text/plain": [
              "array([[-2.06625618, -0.40288464, -1.56669518,  1.10473854],\n",
              "       [-2.46577251,  0.02106276,  0.06767426, -0.79844576],\n",
              "       [-0.58696169,  2.40959276,  1.6805619 , -1.49959131],\n",
              "       [ 2.28273008,  2.64616079, -4.33111883,  1.21613089],\n",
              "       [ 2.73341135,  1.54592476, -3.08014108, -3.8120278 ],\n",
              "       [ 5.12103557, -3.94156716,  2.06997427,  1.84305353],\n",
              "       [ 8.81325128, -1.99857594, -3.84238415,  1.44904486],\n",
              "       [ 0.94750412,  4.1842499 , -1.09229511, -4.56150144],\n",
              "       [-0.85514714,  0.18928648,  2.72077017, -2.12209327],\n",
              "       [-2.06900637, -4.81279662,  1.31369084, -4.11887648]])"
            ]
          },
          "metadata": {},
          "execution_count": 35
        }
      ]
    },
    {
      "cell_type": "markdown",
      "source": [
        "**1.2.3.** Obté una nova matriu de booleans, mb, que contingui True si a la posició corresponent de m2 hi ha un valor major que 1 o menor que -1, i False en cas contrari."
      ],
      "metadata": {
        "id": "l2_3ocDqKuhJ"
      }
    },
    {
      "cell_type": "code",
      "source": [
        "mb = (m2 > 1) | (m2 < -1)\n",
        "mb"
      ],
      "metadata": {
        "id": "jP_yQNiGLWsZ",
        "colab": {
          "base_uri": "https://localhost:8080/"
        },
        "outputId": "9e97e484-de4b-44f7-8fe8-7edba144419b"
      },
      "execution_count": null,
      "outputs": [
        {
          "output_type": "execute_result",
          "data": {
            "text/plain": [
              "array([[ True, False,  True,  True],\n",
              "       [ True, False, False, False],\n",
              "       [False,  True,  True,  True],\n",
              "       [ True,  True,  True,  True],\n",
              "       [ True,  True,  True,  True],\n",
              "       [ True,  True,  True,  True],\n",
              "       [ True,  True,  True,  True],\n",
              "       [False,  True,  True,  True],\n",
              "       [False, False,  True,  True],\n",
              "       [ True,  True,  True,  True]])"
            ]
          },
          "metadata": {},
          "execution_count": 36
        }
      ]
    },
    {
      "cell_type": "markdown",
      "source": [
        "**1.2.4.** Multiplica per 100 tots els valors de m2 i arrodoneix a l'enter més proper. Fes també que tots els valors siguin positius."
      ],
      "metadata": {
        "id": "fwg-RcC1KuqR"
      }
    },
    {
      "cell_type": "code",
      "source": [
        "m2 *= 100\n",
        "m2 = np.round(m2)\n",
        "m2 = np.abs(m2)\n",
        "m2"
      ],
      "metadata": {
        "id": "-vw__RzWLXcC",
        "colab": {
          "base_uri": "https://localhost:8080/"
        },
        "outputId": "db80ed65-f5c9-4fce-ade3-1f169d994700"
      },
      "execution_count": null,
      "outputs": [
        {
          "output_type": "execute_result",
          "data": {
            "text/plain": [
              "array([[207.,  40., 157., 110.],\n",
              "       [247.,   2.,   7.,  80.],\n",
              "       [ 59., 241., 168., 150.],\n",
              "       [228., 265., 433., 122.],\n",
              "       [273., 155., 308., 381.],\n",
              "       [512., 394., 207., 184.],\n",
              "       [881., 200., 384., 145.],\n",
              "       [ 95., 418., 109., 456.],\n",
              "       [ 86.,  19., 272., 212.],\n",
              "       [207., 481., 131., 412.]])"
            ]
          },
          "metadata": {},
          "execution_count": 37
        }
      ]
    },
    {
      "cell_type": "markdown",
      "source": [
        "**1.2.5.** A m2 posa el valor 100 en les posicions tals que tinguem True en mb."
      ],
      "metadata": {
        "id": "LfSm6rotKuzq"
      }
    },
    {
      "cell_type": "code",
      "source": [
        "m2[mb] = 100\n",
        "m2"
      ],
      "metadata": {
        "id": "tShJ3MUGLYN5",
        "colab": {
          "base_uri": "https://localhost:8080/"
        },
        "outputId": "96c647f2-587d-4411-ff16-df4eadf7357b"
      },
      "execution_count": null,
      "outputs": [
        {
          "output_type": "execute_result",
          "data": {
            "text/plain": [
              "array([[100.,  40., 100., 100.],\n",
              "       [100.,   2.,   7.,  80.],\n",
              "       [ 59., 100., 100., 100.],\n",
              "       [100., 100., 100., 100.],\n",
              "       [100., 100., 100., 100.],\n",
              "       [100., 100., 100., 100.],\n",
              "       [100., 100., 100., 100.],\n",
              "       [ 95., 100., 100., 100.],\n",
              "       [ 86.,  19., 100., 100.],\n",
              "       [100., 100., 100., 100.]])"
            ]
          },
          "metadata": {},
          "execution_count": 38
        }
      ]
    },
    {
      "cell_type": "markdown",
      "source": [
        "**1.2.6.** Obté dues noves matrius de 5 files i 2 columnes, m3 i m4. La matriu m3 ha de tenir els valors de les 5 primers files i les 2 primeres columnes de m2. La matriu m4 ha de tenir els valors de les 5 darreres files i les 2 darreres columnes de m2."
      ],
      "metadata": {
        "id": "2UuleGQ1Ku8r"
      }
    },
    {
      "cell_type": "code",
      "source": [
        "m3 = m2[:5, :2]\n",
        "m4 = m2[5:, 2:]\n",
        "print(m3)\n",
        "print(m4)"
      ],
      "metadata": {
        "id": "yFaxmFoJLZAq",
        "colab": {
          "base_uri": "https://localhost:8080/"
        },
        "outputId": "034cb8d7-1bbc-4ead-c74c-d5f85364a8d3"
      },
      "execution_count": null,
      "outputs": [
        {
          "output_type": "stream",
          "name": "stdout",
          "text": [
            "[[100.  40.]\n",
            " [100.   2.]\n",
            " [ 59. 100.]\n",
            " [100. 100.]\n",
            " [100. 100.]]\n",
            "[[100. 100.]\n",
            " [100. 100.]\n",
            " [100. 100.]\n",
            " [100. 100.]\n",
            " [100. 100.]]\n"
          ]
        }
      ]
    },
    {
      "cell_type": "markdown",
      "source": [
        "**1.2.7.** Obté una nova matriu, m5, amb el màxim dels valors de m3 i m4."
      ],
      "metadata": {
        "id": "4XtV9-avKvHR"
      }
    },
    {
      "cell_type": "code",
      "source": [
        "m5 = np.maximum(m3,m4)\n",
        "m5"
      ],
      "metadata": {
        "id": "I6ZjgU2KLZiS",
        "colab": {
          "base_uri": "https://localhost:8080/"
        },
        "outputId": "1632625b-c1df-4dc1-b7ab-e5b4cd03445e"
      },
      "execution_count": null,
      "outputs": [
        {
          "output_type": "execute_result",
          "data": {
            "text/plain": [
              "array([[100., 100.],\n",
              "       [100., 100.],\n",
              "       [100., 100.],\n",
              "       [100., 100.],\n",
              "       [100., 100.]])"
            ]
          },
          "metadata": {},
          "execution_count": 40
        }
      ]
    },
    {
      "cell_type": "markdown",
      "source": [
        "**1.2.8.** Obté els valors màxims i mínims de la matriu m5."
      ],
      "metadata": {
        "id": "4-vStu0dKvQy"
      }
    },
    {
      "cell_type": "code",
      "source": [
        "valor_maxim = np.max(m5)\n",
        "valor_minim = np.min(m5)\n",
        "print(f'El valor máximo de m5 es {valor_maxim} y el menor es {valor_minim}')"
      ],
      "metadata": {
        "id": "f2qVgQng1JwX",
        "colab": {
          "base_uri": "https://localhost:8080/"
        },
        "outputId": "757e44f0-f8aa-4e4e-8735-d5f7d5a73f98"
      },
      "execution_count": null,
      "outputs": [
        {
          "output_type": "stream",
          "name": "stdout",
          "text": [
            "El valor máximo de m5 es 100.0 y el menor es 100.0\n"
          ]
        }
      ]
    },
    {
      "cell_type": "markdown",
      "source": [
        "##Bloc 2: pandas\n",
        "\n",
        "Emplena el codi corresponent a cada subapartat, treballant amb la llibreria pandas."
      ],
      "metadata": {
        "id": "0_8SODmf0jyL"
      }
    },
    {
      "cell_type": "markdown",
      "source": [
        "**2.1.** Per començar, importa la llibreria pandas amb el seu nom habitual.\n",
        "\n",
        "A continuació, carrega en un dataframe el dataset de les pel·lícules i sèries de la plataforma Amazon Prime, publicat a Kaggle per OctopusTeam.  Pots obtenir una còpia en format CSV amb les dades actualitzades fins el 22/10/2024 a https://raw.githubusercontent.com/tnavarrete-iedib/bigdata-24-25/refs/heads/main/prime.csv\n",
        "\n",
        "Mostra el nombre de sèries i de pel·lícules del dataframe."
      ],
      "metadata": {
        "id": "9KwfAEo4pKHo"
      }
    },
    {
      "cell_type": "code",
      "source": [
        "import pandas as pd\n",
        "\n",
        "dataframe = pd.read_csv('https://raw.githubusercontent.com/tnavarrete-iedib/bigdata-24-25/refs/heads/main/prime.csv')\n",
        "numero_series_pelis = dataframe['title'].count()\n",
        "numero_series_pelis"
      ],
      "metadata": {
        "id": "FMuZMFFTuUxL",
        "colab": {
          "base_uri": "https://localhost:8080/"
        },
        "outputId": "395cb95b-2978-47c4-d6eb-7fd445d5568d"
      },
      "execution_count": null,
      "outputs": [
        {
          "output_type": "execute_result",
          "data": {
            "text/plain": [
              "45664"
            ]
          },
          "metadata": {},
          "execution_count": 42
        }
      ]
    },
    {
      "cell_type": "markdown",
      "source": [
        "**2.2.** Obté la mitjana i la desviació estàndard per a les columnes amb la valoració mitjana en IMDB i el nombre de vots en IMDB."
      ],
      "metadata": {
        "id": "ZHqo1-HcNjnA"
      }
    },
    {
      "cell_type": "code",
      "source": [
        "desviacion = dataframe[['imdbAverageRating','imdbNumVotes']].std()\n",
        "media = dataframe[['imdbAverageRating','imdbNumVotes']].mean()\n",
        "print(f'La media es de \\n {media}\\n La desviación estandard es de \\n {desviacion} \\n')"
      ],
      "metadata": {
        "id": "uJ3K-hBHNyLF",
        "colab": {
          "base_uri": "https://localhost:8080/"
        },
        "outputId": "38ba17e1-302c-46d8-b312-efd03a79d937"
      },
      "execution_count": null,
      "outputs": [
        {
          "output_type": "stream",
          "name": "stdout",
          "text": [
            "La media es de \n",
            " imdbAverageRating        6.022309\n",
            "imdbNumVotes         17435.074423\n",
            "dtype: float64\n",
            " La desviación estandard es de \n",
            " imdbAverageRating        1.328282\n",
            "imdbNumVotes         86702.116783\n",
            "dtype: float64 \n",
            "\n"
          ]
        }
      ]
    },
    {
      "cell_type": "markdown",
      "source": [
        "**2.3.** Recupera les 10 sèries llençades el 2024 amb més vots en IMDB, ordenades de més a menys vots."
      ],
      "metadata": {
        "id": "LP0lc1Cd9U6E"
      }
    },
    {
      "cell_type": "code",
      "source": [
        "series_2024 = dataframe[(dataframe['type'] == 'TV Series') & (dataframe['releaseYear'] == 2024)].sort_values(by='imdbNumVotes', ascending=False)\n",
        "series_2024.head(10)\n"
      ],
      "metadata": {
        "id": "WxxqUIQZK_Pm",
        "colab": {
          "base_uri": "https://localhost:8080/",
          "height": 363
        },
        "outputId": "0ffa005f-e99c-4612-f997-5d0fccb53905"
      },
      "execution_count": null,
      "outputs": [
        {
          "output_type": "execute_result",
          "data": {
            "text/plain": [
              "                                                     url  \\\n",
              "44152  https://www.amazon.com/gp/video/detail/B0CN4HV16N   \n",
              "45619                                                NaN   \n",
              "44569  https://www.amazon.com/gp/video/detail/B0CLRQGR5G   \n",
              "45819                                                NaN   \n",
              "44880                                                NaN   \n",
              "46194                                                NaN   \n",
              "45692                                                NaN   \n",
              "46977                                                NaN   \n",
              "44808                                                NaN   \n",
              "45849                                                NaN   \n",
              "\n",
              "                                     title       type  \\\n",
              "44152                              Fallout  TV Series   \n",
              "45619                  Indian Police Force  TV Series   \n",
              "44569                     Mr. & Mrs. Smith  TV Series   \n",
              "45819  The Walking Dead: The Ones Who Live  TV Series   \n",
              "44880                        Solo Leveling  TV Series   \n",
              "46194                   Those About to Die  TV Series   \n",
              "45692                         My Lady Jane  TV Series   \n",
              "46977    Maxton Hall: The World Between Us  TV Series   \n",
              "44808               Batman: Caped Crusader  TV Series   \n",
              "45849                          Kaiju No. 8  TV Series   \n",
              "\n",
              "                             genres  releaseYear      imdbId  \\\n",
              "44152      Action, Adventure, Drama       2024.0  tt12637874   \n",
              "45619          Action, Crime, Drama       2024.0  tt19768024   \n",
              "44569         Action, Comedy, Crime       2024.0  tt14044212   \n",
              "45819       Drama, Horror, Thriller       2024.0   tt9859436   \n",
              "44880  Action, Adventure, Animation       2024.0  tt21209876   \n",
              "46194                 Action, Drama       2024.0  tt10569934   \n",
              "45692        Comedy, Drama, Fantasy       2024.0  tt11379456   \n",
              "46977                Drama, Romance       2024.0  tt27792190   \n",
              "44808  Action, Adventure, Animation       2024.0  tt14681596   \n",
              "45849  Action, Adventure, Animation       2024.0  tt21975436   \n",
              "\n",
              "       imdbAverageRating  imdbNumVotes  \\\n",
              "44152                8.4      264143.0   \n",
              "45619                5.1       58325.0   \n",
              "44569                7.0       45824.0   \n",
              "45819                7.9       34709.0   \n",
              "44880                8.3       30870.0   \n",
              "46194                6.6       17482.0   \n",
              "45692                7.4       16954.0   \n",
              "46977                7.5       14199.0   \n",
              "44808                7.3       12819.0   \n",
              "45849                8.3       11964.0   \n",
              "\n",
              "                                      availableCountries  \n",
              "44152  AD, AE, AG, AL, AR, AT, AU, BA, BB, BE, BG, BH...  \n",
              "45619  AD, AE, AG, AL, AR, AT, AU, BA, BB, BE, BG, BH...  \n",
              "44569  AD, AE, AG, AL, AR, AT, AU, BA, BB, BE, BG, BH...  \n",
              "45819  AG, AR, BB, BM, BO, BR, BS, CL, CO, CR, DO, EC...  \n",
              "44880                                                 JP  \n",
              "46194  AD, AT, AU, BE, CA, CH, CI, DE, ES, FR, GB, GF...  \n",
              "45692  AD, AE, AG, AL, AR, AT, AU, BA, BB, BE, BG, BH...  \n",
              "46977  AD, AE, AG, AL, AR, AT, AU, BA, BB, BE, BG, BH...  \n",
              "44808  AD, AE, AG, AL, AR, AT, AU, BA, BB, BE, BG, BH...  \n",
              "45849                                                 JP  "
            ],
            "text/html": [
              "\n",
              "  <div id=\"df-6f63fd9a-4246-45d9-9de0-d3d713c97b20\" class=\"colab-df-container\">\n",
              "    <div>\n",
              "<style scoped>\n",
              "    .dataframe tbody tr th:only-of-type {\n",
              "        vertical-align: middle;\n",
              "    }\n",
              "\n",
              "    .dataframe tbody tr th {\n",
              "        vertical-align: top;\n",
              "    }\n",
              "\n",
              "    .dataframe thead th {\n",
              "        text-align: right;\n",
              "    }\n",
              "</style>\n",
              "<table border=\"1\" class=\"dataframe\">\n",
              "  <thead>\n",
              "    <tr style=\"text-align: right;\">\n",
              "      <th></th>\n",
              "      <th>url</th>\n",
              "      <th>title</th>\n",
              "      <th>type</th>\n",
              "      <th>genres</th>\n",
              "      <th>releaseYear</th>\n",
              "      <th>imdbId</th>\n",
              "      <th>imdbAverageRating</th>\n",
              "      <th>imdbNumVotes</th>\n",
              "      <th>availableCountries</th>\n",
              "    </tr>\n",
              "  </thead>\n",
              "  <tbody>\n",
              "    <tr>\n",
              "      <th>44152</th>\n",
              "      <td>https://www.amazon.com/gp/video/detail/B0CN4HV16N</td>\n",
              "      <td>Fallout</td>\n",
              "      <td>TV Series</td>\n",
              "      <td>Action, Adventure, Drama</td>\n",
              "      <td>2024.0</td>\n",
              "      <td>tt12637874</td>\n",
              "      <td>8.4</td>\n",
              "      <td>264143.0</td>\n",
              "      <td>AD, AE, AG, AL, AR, AT, AU, BA, BB, BE, BG, BH...</td>\n",
              "    </tr>\n",
              "    <tr>\n",
              "      <th>45619</th>\n",
              "      <td>NaN</td>\n",
              "      <td>Indian Police Force</td>\n",
              "      <td>TV Series</td>\n",
              "      <td>Action, Crime, Drama</td>\n",
              "      <td>2024.0</td>\n",
              "      <td>tt19768024</td>\n",
              "      <td>5.1</td>\n",
              "      <td>58325.0</td>\n",
              "      <td>AD, AE, AG, AL, AR, AT, AU, BA, BB, BE, BG, BH...</td>\n",
              "    </tr>\n",
              "    <tr>\n",
              "      <th>44569</th>\n",
              "      <td>https://www.amazon.com/gp/video/detail/B0CLRQGR5G</td>\n",
              "      <td>Mr. &amp; Mrs. Smith</td>\n",
              "      <td>TV Series</td>\n",
              "      <td>Action, Comedy, Crime</td>\n",
              "      <td>2024.0</td>\n",
              "      <td>tt14044212</td>\n",
              "      <td>7.0</td>\n",
              "      <td>45824.0</td>\n",
              "      <td>AD, AE, AG, AL, AR, AT, AU, BA, BB, BE, BG, BH...</td>\n",
              "    </tr>\n",
              "    <tr>\n",
              "      <th>45819</th>\n",
              "      <td>NaN</td>\n",
              "      <td>The Walking Dead: The Ones Who Live</td>\n",
              "      <td>TV Series</td>\n",
              "      <td>Drama, Horror, Thriller</td>\n",
              "      <td>2024.0</td>\n",
              "      <td>tt9859436</td>\n",
              "      <td>7.9</td>\n",
              "      <td>34709.0</td>\n",
              "      <td>AG, AR, BB, BM, BO, BR, BS, CL, CO, CR, DO, EC...</td>\n",
              "    </tr>\n",
              "    <tr>\n",
              "      <th>44880</th>\n",
              "      <td>NaN</td>\n",
              "      <td>Solo Leveling</td>\n",
              "      <td>TV Series</td>\n",
              "      <td>Action, Adventure, Animation</td>\n",
              "      <td>2024.0</td>\n",
              "      <td>tt21209876</td>\n",
              "      <td>8.3</td>\n",
              "      <td>30870.0</td>\n",
              "      <td>JP</td>\n",
              "    </tr>\n",
              "    <tr>\n",
              "      <th>46194</th>\n",
              "      <td>NaN</td>\n",
              "      <td>Those About to Die</td>\n",
              "      <td>TV Series</td>\n",
              "      <td>Action, Drama</td>\n",
              "      <td>2024.0</td>\n",
              "      <td>tt10569934</td>\n",
              "      <td>6.6</td>\n",
              "      <td>17482.0</td>\n",
              "      <td>AD, AT, AU, BE, CA, CH, CI, DE, ES, FR, GB, GF...</td>\n",
              "    </tr>\n",
              "    <tr>\n",
              "      <th>45692</th>\n",
              "      <td>NaN</td>\n",
              "      <td>My Lady Jane</td>\n",
              "      <td>TV Series</td>\n",
              "      <td>Comedy, Drama, Fantasy</td>\n",
              "      <td>2024.0</td>\n",
              "      <td>tt11379456</td>\n",
              "      <td>7.4</td>\n",
              "      <td>16954.0</td>\n",
              "      <td>AD, AE, AG, AL, AR, AT, AU, BA, BB, BE, BG, BH...</td>\n",
              "    </tr>\n",
              "    <tr>\n",
              "      <th>46977</th>\n",
              "      <td>NaN</td>\n",
              "      <td>Maxton Hall: The World Between Us</td>\n",
              "      <td>TV Series</td>\n",
              "      <td>Drama, Romance</td>\n",
              "      <td>2024.0</td>\n",
              "      <td>tt27792190</td>\n",
              "      <td>7.5</td>\n",
              "      <td>14199.0</td>\n",
              "      <td>AD, AE, AG, AL, AR, AT, AU, BA, BB, BE, BG, BH...</td>\n",
              "    </tr>\n",
              "    <tr>\n",
              "      <th>44808</th>\n",
              "      <td>NaN</td>\n",
              "      <td>Batman: Caped Crusader</td>\n",
              "      <td>TV Series</td>\n",
              "      <td>Action, Adventure, Animation</td>\n",
              "      <td>2024.0</td>\n",
              "      <td>tt14681596</td>\n",
              "      <td>7.3</td>\n",
              "      <td>12819.0</td>\n",
              "      <td>AD, AE, AG, AL, AR, AT, AU, BA, BB, BE, BG, BH...</td>\n",
              "    </tr>\n",
              "    <tr>\n",
              "      <th>45849</th>\n",
              "      <td>NaN</td>\n",
              "      <td>Kaiju No. 8</td>\n",
              "      <td>TV Series</td>\n",
              "      <td>Action, Adventure, Animation</td>\n",
              "      <td>2024.0</td>\n",
              "      <td>tt21975436</td>\n",
              "      <td>8.3</td>\n",
              "      <td>11964.0</td>\n",
              "      <td>JP</td>\n",
              "    </tr>\n",
              "  </tbody>\n",
              "</table>\n",
              "</div>\n",
              "    <div class=\"colab-df-buttons\">\n",
              "\n",
              "  <div class=\"colab-df-container\">\n",
              "    <button class=\"colab-df-convert\" onclick=\"convertToInteractive('df-6f63fd9a-4246-45d9-9de0-d3d713c97b20')\"\n",
              "            title=\"Convert this dataframe to an interactive table.\"\n",
              "            style=\"display:none;\">\n",
              "\n",
              "  <svg xmlns=\"http://www.w3.org/2000/svg\" height=\"24px\" viewBox=\"0 -960 960 960\">\n",
              "    <path d=\"M120-120v-720h720v720H120Zm60-500h600v-160H180v160Zm220 220h160v-160H400v160Zm0 220h160v-160H400v160ZM180-400h160v-160H180v160Zm440 0h160v-160H620v160ZM180-180h160v-160H180v160Zm440 0h160v-160H620v160Z\"/>\n",
              "  </svg>\n",
              "    </button>\n",
              "\n",
              "  <style>\n",
              "    .colab-df-container {\n",
              "      display:flex;\n",
              "      gap: 12px;\n",
              "    }\n",
              "\n",
              "    .colab-df-convert {\n",
              "      background-color: #E8F0FE;\n",
              "      border: none;\n",
              "      border-radius: 50%;\n",
              "      cursor: pointer;\n",
              "      display: none;\n",
              "      fill: #1967D2;\n",
              "      height: 32px;\n",
              "      padding: 0 0 0 0;\n",
              "      width: 32px;\n",
              "    }\n",
              "\n",
              "    .colab-df-convert:hover {\n",
              "      background-color: #E2EBFA;\n",
              "      box-shadow: 0px 1px 2px rgba(60, 64, 67, 0.3), 0px 1px 3px 1px rgba(60, 64, 67, 0.15);\n",
              "      fill: #174EA6;\n",
              "    }\n",
              "\n",
              "    .colab-df-buttons div {\n",
              "      margin-bottom: 4px;\n",
              "    }\n",
              "\n",
              "    [theme=dark] .colab-df-convert {\n",
              "      background-color: #3B4455;\n",
              "      fill: #D2E3FC;\n",
              "    }\n",
              "\n",
              "    [theme=dark] .colab-df-convert:hover {\n",
              "      background-color: #434B5C;\n",
              "      box-shadow: 0px 1px 3px 1px rgba(0, 0, 0, 0.15);\n",
              "      filter: drop-shadow(0px 1px 2px rgba(0, 0, 0, 0.3));\n",
              "      fill: #FFFFFF;\n",
              "    }\n",
              "  </style>\n",
              "\n",
              "    <script>\n",
              "      const buttonEl =\n",
              "        document.querySelector('#df-6f63fd9a-4246-45d9-9de0-d3d713c97b20 button.colab-df-convert');\n",
              "      buttonEl.style.display =\n",
              "        google.colab.kernel.accessAllowed ? 'block' : 'none';\n",
              "\n",
              "      async function convertToInteractive(key) {\n",
              "        const element = document.querySelector('#df-6f63fd9a-4246-45d9-9de0-d3d713c97b20');\n",
              "        const dataTable =\n",
              "          await google.colab.kernel.invokeFunction('convertToInteractive',\n",
              "                                                    [key], {});\n",
              "        if (!dataTable) return;\n",
              "\n",
              "        const docLinkHtml = 'Like what you see? Visit the ' +\n",
              "          '<a target=\"_blank\" href=https://colab.research.google.com/notebooks/data_table.ipynb>data table notebook</a>'\n",
              "          + ' to learn more about interactive tables.';\n",
              "        element.innerHTML = '';\n",
              "        dataTable['output_type'] = 'display_data';\n",
              "        await google.colab.output.renderOutput(dataTable, element);\n",
              "        const docLink = document.createElement('div');\n",
              "        docLink.innerHTML = docLinkHtml;\n",
              "        element.appendChild(docLink);\n",
              "      }\n",
              "    </script>\n",
              "  </div>\n",
              "\n",
              "\n",
              "<div id=\"df-448f7691-1241-4a93-b097-969341b2e3ce\">\n",
              "  <button class=\"colab-df-quickchart\" onclick=\"quickchart('df-448f7691-1241-4a93-b097-969341b2e3ce')\"\n",
              "            title=\"Suggest charts\"\n",
              "            style=\"display:none;\">\n",
              "\n",
              "<svg xmlns=\"http://www.w3.org/2000/svg\" height=\"24px\"viewBox=\"0 0 24 24\"\n",
              "     width=\"24px\">\n",
              "    <g>\n",
              "        <path d=\"M19 3H5c-1.1 0-2 .9-2 2v14c0 1.1.9 2 2 2h14c1.1 0 2-.9 2-2V5c0-1.1-.9-2-2-2zM9 17H7v-7h2v7zm4 0h-2V7h2v10zm4 0h-2v-4h2v4z\"/>\n",
              "    </g>\n",
              "</svg>\n",
              "  </button>\n",
              "\n",
              "<style>\n",
              "  .colab-df-quickchart {\n",
              "      --bg-color: #E8F0FE;\n",
              "      --fill-color: #1967D2;\n",
              "      --hover-bg-color: #E2EBFA;\n",
              "      --hover-fill-color: #174EA6;\n",
              "      --disabled-fill-color: #AAA;\n",
              "      --disabled-bg-color: #DDD;\n",
              "  }\n",
              "\n",
              "  [theme=dark] .colab-df-quickchart {\n",
              "      --bg-color: #3B4455;\n",
              "      --fill-color: #D2E3FC;\n",
              "      --hover-bg-color: #434B5C;\n",
              "      --hover-fill-color: #FFFFFF;\n",
              "      --disabled-bg-color: #3B4455;\n",
              "      --disabled-fill-color: #666;\n",
              "  }\n",
              "\n",
              "  .colab-df-quickchart {\n",
              "    background-color: var(--bg-color);\n",
              "    border: none;\n",
              "    border-radius: 50%;\n",
              "    cursor: pointer;\n",
              "    display: none;\n",
              "    fill: var(--fill-color);\n",
              "    height: 32px;\n",
              "    padding: 0;\n",
              "    width: 32px;\n",
              "  }\n",
              "\n",
              "  .colab-df-quickchart:hover {\n",
              "    background-color: var(--hover-bg-color);\n",
              "    box-shadow: 0 1px 2px rgba(60, 64, 67, 0.3), 0 1px 3px 1px rgba(60, 64, 67, 0.15);\n",
              "    fill: var(--button-hover-fill-color);\n",
              "  }\n",
              "\n",
              "  .colab-df-quickchart-complete:disabled,\n",
              "  .colab-df-quickchart-complete:disabled:hover {\n",
              "    background-color: var(--disabled-bg-color);\n",
              "    fill: var(--disabled-fill-color);\n",
              "    box-shadow: none;\n",
              "  }\n",
              "\n",
              "  .colab-df-spinner {\n",
              "    border: 2px solid var(--fill-color);\n",
              "    border-color: transparent;\n",
              "    border-bottom-color: var(--fill-color);\n",
              "    animation:\n",
              "      spin 1s steps(1) infinite;\n",
              "  }\n",
              "\n",
              "  @keyframes spin {\n",
              "    0% {\n",
              "      border-color: transparent;\n",
              "      border-bottom-color: var(--fill-color);\n",
              "      border-left-color: var(--fill-color);\n",
              "    }\n",
              "    20% {\n",
              "      border-color: transparent;\n",
              "      border-left-color: var(--fill-color);\n",
              "      border-top-color: var(--fill-color);\n",
              "    }\n",
              "    30% {\n",
              "      border-color: transparent;\n",
              "      border-left-color: var(--fill-color);\n",
              "      border-top-color: var(--fill-color);\n",
              "      border-right-color: var(--fill-color);\n",
              "    }\n",
              "    40% {\n",
              "      border-color: transparent;\n",
              "      border-right-color: var(--fill-color);\n",
              "      border-top-color: var(--fill-color);\n",
              "    }\n",
              "    60% {\n",
              "      border-color: transparent;\n",
              "      border-right-color: var(--fill-color);\n",
              "    }\n",
              "    80% {\n",
              "      border-color: transparent;\n",
              "      border-right-color: var(--fill-color);\n",
              "      border-bottom-color: var(--fill-color);\n",
              "    }\n",
              "    90% {\n",
              "      border-color: transparent;\n",
              "      border-bottom-color: var(--fill-color);\n",
              "    }\n",
              "  }\n",
              "</style>\n",
              "\n",
              "  <script>\n",
              "    async function quickchart(key) {\n",
              "      const quickchartButtonEl =\n",
              "        document.querySelector('#' + key + ' button');\n",
              "      quickchartButtonEl.disabled = true;  // To prevent multiple clicks.\n",
              "      quickchartButtonEl.classList.add('colab-df-spinner');\n",
              "      try {\n",
              "        const charts = await google.colab.kernel.invokeFunction(\n",
              "            'suggestCharts', [key], {});\n",
              "      } catch (error) {\n",
              "        console.error('Error during call to suggestCharts:', error);\n",
              "      }\n",
              "      quickchartButtonEl.classList.remove('colab-df-spinner');\n",
              "      quickchartButtonEl.classList.add('colab-df-quickchart-complete');\n",
              "    }\n",
              "    (() => {\n",
              "      let quickchartButtonEl =\n",
              "        document.querySelector('#df-448f7691-1241-4a93-b097-969341b2e3ce button');\n",
              "      quickchartButtonEl.style.display =\n",
              "        google.colab.kernel.accessAllowed ? 'block' : 'none';\n",
              "    })();\n",
              "  </script>\n",
              "</div>\n",
              "\n",
              "    </div>\n",
              "  </div>\n"
            ],
            "application/vnd.google.colaboratory.intrinsic+json": {
              "type": "dataframe",
              "variable_name": "series_2024",
              "summary": "{\n  \"name\": \"series_2024\",\n  \"rows\": 329,\n  \"fields\": [\n    {\n      \"column\": \"url\",\n      \"properties\": {\n        \"dtype\": \"category\",\n        \"num_unique_values\": 4,\n        \"samples\": [\n          \"https://www.amazon.com/gp/video/detail/B0CLRQGR5G\",\n          \"https://www.amazon.com/gp/video/detail/B0CVTRZWDF\",\n          \"https://www.amazon.com/gp/video/detail/B0CN4HV16N\"\n        ],\n        \"semantic_type\": \"\",\n        \"description\": \"\"\n      }\n    },\n    {\n      \"column\": \"title\",\n      \"properties\": {\n        \"dtype\": \"string\",\n        \"num_unique_values\": 260,\n        \"samples\": [\n          \"No Gain No Love\",\n          \"1122: For a Happy Marriage\",\n          \"Sueltos en Los Cabos\"\n        ],\n        \"semantic_type\": \"\",\n        \"description\": \"\"\n      }\n    },\n    {\n      \"column\": \"type\",\n      \"properties\": {\n        \"dtype\": \"category\",\n        \"num_unique_values\": 1,\n        \"samples\": [\n          \"TV Series\"\n        ],\n        \"semantic_type\": \"\",\n        \"description\": \"\"\n      }\n    },\n    {\n      \"column\": \"genres\",\n      \"properties\": {\n        \"dtype\": \"category\",\n        \"num_unique_values\": 103,\n        \"samples\": [\n          \"Documentary\"\n        ],\n        \"semantic_type\": \"\",\n        \"description\": \"\"\n      }\n    },\n    {\n      \"column\": \"releaseYear\",\n      \"properties\": {\n        \"dtype\": \"number\",\n        \"std\": 0.0,\n        \"min\": 2024.0,\n        \"max\": 2024.0,\n        \"num_unique_values\": 1,\n        \"samples\": [\n          2024.0\n        ],\n        \"semantic_type\": \"\",\n        \"description\": \"\"\n      }\n    },\n    {\n      \"column\": \"imdbId\",\n      \"properties\": {\n        \"dtype\": \"string\",\n        \"num_unique_values\": 260,\n        \"samples\": [\n          \"tt32981987\"\n        ],\n        \"semantic_type\": \"\",\n        \"description\": \"\"\n      }\n    },\n    {\n      \"column\": \"imdbAverageRating\",\n      \"properties\": {\n        \"dtype\": \"number\",\n        \"std\": 1.0131287325036062,\n        \"min\": 2.8,\n        \"max\": 9.5,\n        \"num_unique_values\": 48,\n        \"samples\": [\n          5.4\n        ],\n        \"semantic_type\": \"\",\n        \"description\": \"\"\n      }\n    },\n    {\n      \"column\": \"imdbNumVotes\",\n      \"properties\": {\n        \"dtype\": \"number\",\n        \"std\": 17443.652689869705,\n        \"min\": 6.0,\n        \"max\": 264143.0,\n        \"num_unique_values\": 217,\n        \"samples\": [\n          20.0\n        ],\n        \"semantic_type\": \"\",\n        \"description\": \"\"\n      }\n    },\n    {\n      \"column\": \"availableCountries\",\n      \"properties\": {\n        \"dtype\": \"category\",\n        \"num_unique_values\": 90,\n        \"samples\": [\n          \"NL\"\n        ],\n        \"semantic_type\": \"\",\n        \"description\": \"\"\n      }\n    }\n  ]\n}"
            }
          },
          "metadata": {},
          "execution_count": 44
        }
      ]
    },
    {
      "cell_type": "markdown",
      "source": [
        "**2.4.** Recupera les 10 pel·lícules llençades des de l'any 2000 del gènere ciència ficció (poden haver-hi d'altres gèneres també) amb millor valoració, ordenades de més a menys valoració en IMDB."
      ],
      "metadata": {
        "id": "XyGhRHyJ8Q2G"
      }
    },
    {
      "cell_type": "code",
      "source": [
        "peliculas_desde_2000 = dataframe[(dataframe['type'] == 'Movie') & (dataframe['genres'] == 'Sci-Fi') & (dataframe['releaseYear'] >= 2000)].sort_values(by='imdbAverageRating', ascending=False)\n",
        "peliculas_desde_2000.head(10)"
      ],
      "metadata": {
        "id": "GBKFcWQa8uzX",
        "colab": {
          "base_uri": "https://localhost:8080/",
          "height": 363
        },
        "outputId": "c25d762d-3230-4a05-ec22-c5b444253984"
      },
      "execution_count": null,
      "outputs": [
        {
          "output_type": "execute_result",
          "data": {
            "text/plain": [
              "       url                        title   type  genres  releaseYear  \\\n",
              "30171  NaN  RiffTrax Live: Time Chasers  Movie  Sci-Fi       2016.0   \n",
              "37275  NaN                       Kandam  Movie  Sci-Fi       2017.0   \n",
              "34988  NaN       Yesterday Wonder I Was  Movie  Sci-Fi       2017.0   \n",
              "28271  NaN          The Whispering Star  Movie  Sci-Fi       2015.0   \n",
              "1514   NaN         The Wild Blue Yonder  Movie  Sci-Fi       2005.0   \n",
              "14114  NaN                       Vortex  Movie  Sci-Fi       2001.0   \n",
              "34423  NaN                Life Guidance  Movie  Sci-Fi       2017.0   \n",
              "34431  NaN                  The Gateway  Movie  Sci-Fi       2018.0   \n",
              "31508  NaN                  Confinement  Movie  Sci-Fi       2016.0   \n",
              "25957  NaN                   Index Zero  Movie  Sci-Fi       2014.0   \n",
              "\n",
              "          imdbId  imdbAverageRating  imdbNumVotes  \\\n",
              "30171  tt5696110                7.5         232.0   \n",
              "37275  tt5509978                7.3          29.0   \n",
              "34988  tt6079330                6.7         166.0   \n",
              "28271  tt4957538                6.5        1320.0   \n",
              "1514   tt0443693                6.1        3928.0   \n",
              "14114  tt0217135                6.0         348.0   \n",
              "34423  tt7233012                5.5         181.0   \n",
              "34431  tt6179746                5.4        5343.0   \n",
              "31508  tt3113498                5.3        1592.0   \n",
              "25957  tt3451968                5.3         173.0   \n",
              "\n",
              "                                      availableCountries  \n",
              "30171  AG, AU, BB, BM, BS, BZ, CA, CM, GB, GG, GH, GI...  \n",
              "37275                                     CA, GB, GG, US  \n",
              "34988  AG, AR, BB, BM, BO, BR, BS, BZ, CL, CO, CR, CU...  \n",
              "28271                                         JP, SM, VA  \n",
              "1514                                                  US  \n",
              "14114                                         IT, SM, VA  \n",
              "34423                                                 NZ  \n",
              "34431                                         AU, NZ, US  \n",
              "31508                                     CA, GB, GG, IE  \n",
              "25957                         GB, GG, IE, IT, SM, US, VA  "
            ],
            "text/html": [
              "\n",
              "  <div id=\"df-bea5b4e2-39eb-4026-891d-e45cad22f6d2\" class=\"colab-df-container\">\n",
              "    <div>\n",
              "<style scoped>\n",
              "    .dataframe tbody tr th:only-of-type {\n",
              "        vertical-align: middle;\n",
              "    }\n",
              "\n",
              "    .dataframe tbody tr th {\n",
              "        vertical-align: top;\n",
              "    }\n",
              "\n",
              "    .dataframe thead th {\n",
              "        text-align: right;\n",
              "    }\n",
              "</style>\n",
              "<table border=\"1\" class=\"dataframe\">\n",
              "  <thead>\n",
              "    <tr style=\"text-align: right;\">\n",
              "      <th></th>\n",
              "      <th>url</th>\n",
              "      <th>title</th>\n",
              "      <th>type</th>\n",
              "      <th>genres</th>\n",
              "      <th>releaseYear</th>\n",
              "      <th>imdbId</th>\n",
              "      <th>imdbAverageRating</th>\n",
              "      <th>imdbNumVotes</th>\n",
              "      <th>availableCountries</th>\n",
              "    </tr>\n",
              "  </thead>\n",
              "  <tbody>\n",
              "    <tr>\n",
              "      <th>30171</th>\n",
              "      <td>NaN</td>\n",
              "      <td>RiffTrax Live: Time Chasers</td>\n",
              "      <td>Movie</td>\n",
              "      <td>Sci-Fi</td>\n",
              "      <td>2016.0</td>\n",
              "      <td>tt5696110</td>\n",
              "      <td>7.5</td>\n",
              "      <td>232.0</td>\n",
              "      <td>AG, AU, BB, BM, BS, BZ, CA, CM, GB, GG, GH, GI...</td>\n",
              "    </tr>\n",
              "    <tr>\n",
              "      <th>37275</th>\n",
              "      <td>NaN</td>\n",
              "      <td>Kandam</td>\n",
              "      <td>Movie</td>\n",
              "      <td>Sci-Fi</td>\n",
              "      <td>2017.0</td>\n",
              "      <td>tt5509978</td>\n",
              "      <td>7.3</td>\n",
              "      <td>29.0</td>\n",
              "      <td>CA, GB, GG, US</td>\n",
              "    </tr>\n",
              "    <tr>\n",
              "      <th>34988</th>\n",
              "      <td>NaN</td>\n",
              "      <td>Yesterday Wonder I Was</td>\n",
              "      <td>Movie</td>\n",
              "      <td>Sci-Fi</td>\n",
              "      <td>2017.0</td>\n",
              "      <td>tt6079330</td>\n",
              "      <td>6.7</td>\n",
              "      <td>166.0</td>\n",
              "      <td>AG, AR, BB, BM, BO, BR, BS, BZ, CL, CO, CR, CU...</td>\n",
              "    </tr>\n",
              "    <tr>\n",
              "      <th>28271</th>\n",
              "      <td>NaN</td>\n",
              "      <td>The Whispering Star</td>\n",
              "      <td>Movie</td>\n",
              "      <td>Sci-Fi</td>\n",
              "      <td>2015.0</td>\n",
              "      <td>tt4957538</td>\n",
              "      <td>6.5</td>\n",
              "      <td>1320.0</td>\n",
              "      <td>JP, SM, VA</td>\n",
              "    </tr>\n",
              "    <tr>\n",
              "      <th>1514</th>\n",
              "      <td>NaN</td>\n",
              "      <td>The Wild Blue Yonder</td>\n",
              "      <td>Movie</td>\n",
              "      <td>Sci-Fi</td>\n",
              "      <td>2005.0</td>\n",
              "      <td>tt0443693</td>\n",
              "      <td>6.1</td>\n",
              "      <td>3928.0</td>\n",
              "      <td>US</td>\n",
              "    </tr>\n",
              "    <tr>\n",
              "      <th>14114</th>\n",
              "      <td>NaN</td>\n",
              "      <td>Vortex</td>\n",
              "      <td>Movie</td>\n",
              "      <td>Sci-Fi</td>\n",
              "      <td>2001.0</td>\n",
              "      <td>tt0217135</td>\n",
              "      <td>6.0</td>\n",
              "      <td>348.0</td>\n",
              "      <td>IT, SM, VA</td>\n",
              "    </tr>\n",
              "    <tr>\n",
              "      <th>34423</th>\n",
              "      <td>NaN</td>\n",
              "      <td>Life Guidance</td>\n",
              "      <td>Movie</td>\n",
              "      <td>Sci-Fi</td>\n",
              "      <td>2017.0</td>\n",
              "      <td>tt7233012</td>\n",
              "      <td>5.5</td>\n",
              "      <td>181.0</td>\n",
              "      <td>NZ</td>\n",
              "    </tr>\n",
              "    <tr>\n",
              "      <th>34431</th>\n",
              "      <td>NaN</td>\n",
              "      <td>The Gateway</td>\n",
              "      <td>Movie</td>\n",
              "      <td>Sci-Fi</td>\n",
              "      <td>2018.0</td>\n",
              "      <td>tt6179746</td>\n",
              "      <td>5.4</td>\n",
              "      <td>5343.0</td>\n",
              "      <td>AU, NZ, US</td>\n",
              "    </tr>\n",
              "    <tr>\n",
              "      <th>31508</th>\n",
              "      <td>NaN</td>\n",
              "      <td>Confinement</td>\n",
              "      <td>Movie</td>\n",
              "      <td>Sci-Fi</td>\n",
              "      <td>2016.0</td>\n",
              "      <td>tt3113498</td>\n",
              "      <td>5.3</td>\n",
              "      <td>1592.0</td>\n",
              "      <td>CA, GB, GG, IE</td>\n",
              "    </tr>\n",
              "    <tr>\n",
              "      <th>25957</th>\n",
              "      <td>NaN</td>\n",
              "      <td>Index Zero</td>\n",
              "      <td>Movie</td>\n",
              "      <td>Sci-Fi</td>\n",
              "      <td>2014.0</td>\n",
              "      <td>tt3451968</td>\n",
              "      <td>5.3</td>\n",
              "      <td>173.0</td>\n",
              "      <td>GB, GG, IE, IT, SM, US, VA</td>\n",
              "    </tr>\n",
              "  </tbody>\n",
              "</table>\n",
              "</div>\n",
              "    <div class=\"colab-df-buttons\">\n",
              "\n",
              "  <div class=\"colab-df-container\">\n",
              "    <button class=\"colab-df-convert\" onclick=\"convertToInteractive('df-bea5b4e2-39eb-4026-891d-e45cad22f6d2')\"\n",
              "            title=\"Convert this dataframe to an interactive table.\"\n",
              "            style=\"display:none;\">\n",
              "\n",
              "  <svg xmlns=\"http://www.w3.org/2000/svg\" height=\"24px\" viewBox=\"0 -960 960 960\">\n",
              "    <path d=\"M120-120v-720h720v720H120Zm60-500h600v-160H180v160Zm220 220h160v-160H400v160Zm0 220h160v-160H400v160ZM180-400h160v-160H180v160Zm440 0h160v-160H620v160ZM180-180h160v-160H180v160Zm440 0h160v-160H620v160Z\"/>\n",
              "  </svg>\n",
              "    </button>\n",
              "\n",
              "  <style>\n",
              "    .colab-df-container {\n",
              "      display:flex;\n",
              "      gap: 12px;\n",
              "    }\n",
              "\n",
              "    .colab-df-convert {\n",
              "      background-color: #E8F0FE;\n",
              "      border: none;\n",
              "      border-radius: 50%;\n",
              "      cursor: pointer;\n",
              "      display: none;\n",
              "      fill: #1967D2;\n",
              "      height: 32px;\n",
              "      padding: 0 0 0 0;\n",
              "      width: 32px;\n",
              "    }\n",
              "\n",
              "    .colab-df-convert:hover {\n",
              "      background-color: #E2EBFA;\n",
              "      box-shadow: 0px 1px 2px rgba(60, 64, 67, 0.3), 0px 1px 3px 1px rgba(60, 64, 67, 0.15);\n",
              "      fill: #174EA6;\n",
              "    }\n",
              "\n",
              "    .colab-df-buttons div {\n",
              "      margin-bottom: 4px;\n",
              "    }\n",
              "\n",
              "    [theme=dark] .colab-df-convert {\n",
              "      background-color: #3B4455;\n",
              "      fill: #D2E3FC;\n",
              "    }\n",
              "\n",
              "    [theme=dark] .colab-df-convert:hover {\n",
              "      background-color: #434B5C;\n",
              "      box-shadow: 0px 1px 3px 1px rgba(0, 0, 0, 0.15);\n",
              "      filter: drop-shadow(0px 1px 2px rgba(0, 0, 0, 0.3));\n",
              "      fill: #FFFFFF;\n",
              "    }\n",
              "  </style>\n",
              "\n",
              "    <script>\n",
              "      const buttonEl =\n",
              "        document.querySelector('#df-bea5b4e2-39eb-4026-891d-e45cad22f6d2 button.colab-df-convert');\n",
              "      buttonEl.style.display =\n",
              "        google.colab.kernel.accessAllowed ? 'block' : 'none';\n",
              "\n",
              "      async function convertToInteractive(key) {\n",
              "        const element = document.querySelector('#df-bea5b4e2-39eb-4026-891d-e45cad22f6d2');\n",
              "        const dataTable =\n",
              "          await google.colab.kernel.invokeFunction('convertToInteractive',\n",
              "                                                    [key], {});\n",
              "        if (!dataTable) return;\n",
              "\n",
              "        const docLinkHtml = 'Like what you see? Visit the ' +\n",
              "          '<a target=\"_blank\" href=https://colab.research.google.com/notebooks/data_table.ipynb>data table notebook</a>'\n",
              "          + ' to learn more about interactive tables.';\n",
              "        element.innerHTML = '';\n",
              "        dataTable['output_type'] = 'display_data';\n",
              "        await google.colab.output.renderOutput(dataTable, element);\n",
              "        const docLink = document.createElement('div');\n",
              "        docLink.innerHTML = docLinkHtml;\n",
              "        element.appendChild(docLink);\n",
              "      }\n",
              "    </script>\n",
              "  </div>\n",
              "\n",
              "\n",
              "<div id=\"df-b3b61a92-ebfb-408a-b27b-e5164ff41d35\">\n",
              "  <button class=\"colab-df-quickchart\" onclick=\"quickchart('df-b3b61a92-ebfb-408a-b27b-e5164ff41d35')\"\n",
              "            title=\"Suggest charts\"\n",
              "            style=\"display:none;\">\n",
              "\n",
              "<svg xmlns=\"http://www.w3.org/2000/svg\" height=\"24px\"viewBox=\"0 0 24 24\"\n",
              "     width=\"24px\">\n",
              "    <g>\n",
              "        <path d=\"M19 3H5c-1.1 0-2 .9-2 2v14c0 1.1.9 2 2 2h14c1.1 0 2-.9 2-2V5c0-1.1-.9-2-2-2zM9 17H7v-7h2v7zm4 0h-2V7h2v10zm4 0h-2v-4h2v4z\"/>\n",
              "    </g>\n",
              "</svg>\n",
              "  </button>\n",
              "\n",
              "<style>\n",
              "  .colab-df-quickchart {\n",
              "      --bg-color: #E8F0FE;\n",
              "      --fill-color: #1967D2;\n",
              "      --hover-bg-color: #E2EBFA;\n",
              "      --hover-fill-color: #174EA6;\n",
              "      --disabled-fill-color: #AAA;\n",
              "      --disabled-bg-color: #DDD;\n",
              "  }\n",
              "\n",
              "  [theme=dark] .colab-df-quickchart {\n",
              "      --bg-color: #3B4455;\n",
              "      --fill-color: #D2E3FC;\n",
              "      --hover-bg-color: #434B5C;\n",
              "      --hover-fill-color: #FFFFFF;\n",
              "      --disabled-bg-color: #3B4455;\n",
              "      --disabled-fill-color: #666;\n",
              "  }\n",
              "\n",
              "  .colab-df-quickchart {\n",
              "    background-color: var(--bg-color);\n",
              "    border: none;\n",
              "    border-radius: 50%;\n",
              "    cursor: pointer;\n",
              "    display: none;\n",
              "    fill: var(--fill-color);\n",
              "    height: 32px;\n",
              "    padding: 0;\n",
              "    width: 32px;\n",
              "  }\n",
              "\n",
              "  .colab-df-quickchart:hover {\n",
              "    background-color: var(--hover-bg-color);\n",
              "    box-shadow: 0 1px 2px rgba(60, 64, 67, 0.3), 0 1px 3px 1px rgba(60, 64, 67, 0.15);\n",
              "    fill: var(--button-hover-fill-color);\n",
              "  }\n",
              "\n",
              "  .colab-df-quickchart-complete:disabled,\n",
              "  .colab-df-quickchart-complete:disabled:hover {\n",
              "    background-color: var(--disabled-bg-color);\n",
              "    fill: var(--disabled-fill-color);\n",
              "    box-shadow: none;\n",
              "  }\n",
              "\n",
              "  .colab-df-spinner {\n",
              "    border: 2px solid var(--fill-color);\n",
              "    border-color: transparent;\n",
              "    border-bottom-color: var(--fill-color);\n",
              "    animation:\n",
              "      spin 1s steps(1) infinite;\n",
              "  }\n",
              "\n",
              "  @keyframes spin {\n",
              "    0% {\n",
              "      border-color: transparent;\n",
              "      border-bottom-color: var(--fill-color);\n",
              "      border-left-color: var(--fill-color);\n",
              "    }\n",
              "    20% {\n",
              "      border-color: transparent;\n",
              "      border-left-color: var(--fill-color);\n",
              "      border-top-color: var(--fill-color);\n",
              "    }\n",
              "    30% {\n",
              "      border-color: transparent;\n",
              "      border-left-color: var(--fill-color);\n",
              "      border-top-color: var(--fill-color);\n",
              "      border-right-color: var(--fill-color);\n",
              "    }\n",
              "    40% {\n",
              "      border-color: transparent;\n",
              "      border-right-color: var(--fill-color);\n",
              "      border-top-color: var(--fill-color);\n",
              "    }\n",
              "    60% {\n",
              "      border-color: transparent;\n",
              "      border-right-color: var(--fill-color);\n",
              "    }\n",
              "    80% {\n",
              "      border-color: transparent;\n",
              "      border-right-color: var(--fill-color);\n",
              "      border-bottom-color: var(--fill-color);\n",
              "    }\n",
              "    90% {\n",
              "      border-color: transparent;\n",
              "      border-bottom-color: var(--fill-color);\n",
              "    }\n",
              "  }\n",
              "</style>\n",
              "\n",
              "  <script>\n",
              "    async function quickchart(key) {\n",
              "      const quickchartButtonEl =\n",
              "        document.querySelector('#' + key + ' button');\n",
              "      quickchartButtonEl.disabled = true;  // To prevent multiple clicks.\n",
              "      quickchartButtonEl.classList.add('colab-df-spinner');\n",
              "      try {\n",
              "        const charts = await google.colab.kernel.invokeFunction(\n",
              "            'suggestCharts', [key], {});\n",
              "      } catch (error) {\n",
              "        console.error('Error during call to suggestCharts:', error);\n",
              "      }\n",
              "      quickchartButtonEl.classList.remove('colab-df-spinner');\n",
              "      quickchartButtonEl.classList.add('colab-df-quickchart-complete');\n",
              "    }\n",
              "    (() => {\n",
              "      let quickchartButtonEl =\n",
              "        document.querySelector('#df-b3b61a92-ebfb-408a-b27b-e5164ff41d35 button');\n",
              "      quickchartButtonEl.style.display =\n",
              "        google.colab.kernel.accessAllowed ? 'block' : 'none';\n",
              "    })();\n",
              "  </script>\n",
              "</div>\n",
              "\n",
              "    </div>\n",
              "  </div>\n"
            ],
            "application/vnd.google.colaboratory.intrinsic+json": {
              "type": "dataframe",
              "variable_name": "peliculas_desde_2000",
              "repr_error": "0"
            }
          },
          "metadata": {},
          "execution_count": 45
        }
      ]
    },
    {
      "cell_type": "markdown",
      "source": [
        "**2.5.** Calcula el nombre de pel·lícules que s'han llançat cada any des del 2000."
      ],
      "metadata": {
        "id": "3xtyorwrpG3R"
      }
    },
    {
      "cell_type": "code",
      "source": [
        "numero_peliculas_desde_2000 = dataframe[(dataframe['releaseYear'] >= 2000) & (dataframe['type'] == 'Movie')].groupby('releaseYear')['title'].size()\n",
        "numero_peliculas_desde_2000"
      ],
      "metadata": {
        "id": "6ULPeJ2_uVyZ",
        "colab": {
          "base_uri": "https://localhost:8080/",
          "height": 899
        },
        "outputId": "d7ee507e-2d7c-454b-ea87-727342779e1a"
      },
      "execution_count": null,
      "outputs": [
        {
          "output_type": "execute_result",
          "data": {
            "text/plain": [
              "releaseYear\n",
              "2000.0     524\n",
              "2001.0     516\n",
              "2002.0     582\n",
              "2003.0     558\n",
              "2004.0     637\n",
              "2005.0     759\n",
              "2006.0     808\n",
              "2007.0     922\n",
              "2008.0     955\n",
              "2009.0    1082\n",
              "2010.0    1146\n",
              "2011.0    1313\n",
              "2012.0    1544\n",
              "2013.0    1931\n",
              "2014.0    2073\n",
              "2015.0    2252\n",
              "2016.0    2425\n",
              "2017.0    2643\n",
              "2018.0    2358\n",
              "2019.0     655\n",
              "2020.0     229\n",
              "2021.0     119\n",
              "2022.0     124\n",
              "2023.0     141\n",
              "2024.0     105\n",
              "Name: title, dtype: int64"
            ],
            "text/html": [
              "<div>\n",
              "<style scoped>\n",
              "    .dataframe tbody tr th:only-of-type {\n",
              "        vertical-align: middle;\n",
              "    }\n",
              "\n",
              "    .dataframe tbody tr th {\n",
              "        vertical-align: top;\n",
              "    }\n",
              "\n",
              "    .dataframe thead th {\n",
              "        text-align: right;\n",
              "    }\n",
              "</style>\n",
              "<table border=\"1\" class=\"dataframe\">\n",
              "  <thead>\n",
              "    <tr style=\"text-align: right;\">\n",
              "      <th></th>\n",
              "      <th>title</th>\n",
              "    </tr>\n",
              "    <tr>\n",
              "      <th>releaseYear</th>\n",
              "      <th></th>\n",
              "    </tr>\n",
              "  </thead>\n",
              "  <tbody>\n",
              "    <tr>\n",
              "      <th>2000.0</th>\n",
              "      <td>524</td>\n",
              "    </tr>\n",
              "    <tr>\n",
              "      <th>2001.0</th>\n",
              "      <td>516</td>\n",
              "    </tr>\n",
              "    <tr>\n",
              "      <th>2002.0</th>\n",
              "      <td>582</td>\n",
              "    </tr>\n",
              "    <tr>\n",
              "      <th>2003.0</th>\n",
              "      <td>558</td>\n",
              "    </tr>\n",
              "    <tr>\n",
              "      <th>2004.0</th>\n",
              "      <td>637</td>\n",
              "    </tr>\n",
              "    <tr>\n",
              "      <th>2005.0</th>\n",
              "      <td>759</td>\n",
              "    </tr>\n",
              "    <tr>\n",
              "      <th>2006.0</th>\n",
              "      <td>808</td>\n",
              "    </tr>\n",
              "    <tr>\n",
              "      <th>2007.0</th>\n",
              "      <td>922</td>\n",
              "    </tr>\n",
              "    <tr>\n",
              "      <th>2008.0</th>\n",
              "      <td>955</td>\n",
              "    </tr>\n",
              "    <tr>\n",
              "      <th>2009.0</th>\n",
              "      <td>1082</td>\n",
              "    </tr>\n",
              "    <tr>\n",
              "      <th>2010.0</th>\n",
              "      <td>1146</td>\n",
              "    </tr>\n",
              "    <tr>\n",
              "      <th>2011.0</th>\n",
              "      <td>1313</td>\n",
              "    </tr>\n",
              "    <tr>\n",
              "      <th>2012.0</th>\n",
              "      <td>1544</td>\n",
              "    </tr>\n",
              "    <tr>\n",
              "      <th>2013.0</th>\n",
              "      <td>1931</td>\n",
              "    </tr>\n",
              "    <tr>\n",
              "      <th>2014.0</th>\n",
              "      <td>2073</td>\n",
              "    </tr>\n",
              "    <tr>\n",
              "      <th>2015.0</th>\n",
              "      <td>2252</td>\n",
              "    </tr>\n",
              "    <tr>\n",
              "      <th>2016.0</th>\n",
              "      <td>2425</td>\n",
              "    </tr>\n",
              "    <tr>\n",
              "      <th>2017.0</th>\n",
              "      <td>2643</td>\n",
              "    </tr>\n",
              "    <tr>\n",
              "      <th>2018.0</th>\n",
              "      <td>2358</td>\n",
              "    </tr>\n",
              "    <tr>\n",
              "      <th>2019.0</th>\n",
              "      <td>655</td>\n",
              "    </tr>\n",
              "    <tr>\n",
              "      <th>2020.0</th>\n",
              "      <td>229</td>\n",
              "    </tr>\n",
              "    <tr>\n",
              "      <th>2021.0</th>\n",
              "      <td>119</td>\n",
              "    </tr>\n",
              "    <tr>\n",
              "      <th>2022.0</th>\n",
              "      <td>124</td>\n",
              "    </tr>\n",
              "    <tr>\n",
              "      <th>2023.0</th>\n",
              "      <td>141</td>\n",
              "    </tr>\n",
              "    <tr>\n",
              "      <th>2024.0</th>\n",
              "      <td>105</td>\n",
              "    </tr>\n",
              "  </tbody>\n",
              "</table>\n",
              "</div><br><label><b>dtype:</b> int64</label>"
            ]
          },
          "metadata": {},
          "execution_count": 46
        }
      ]
    },
    {
      "cell_type": "markdown",
      "source": [
        "**2.6.** Volem agrupar les pel·lícules per any de llançament, des de l'any 2000. Has d'obtenir dos objectse Series, on en els índexs tendrem l'any i en els valors:\n",
        "* en un objecte Series, el nombre total de vots en IMDB\n",
        "* en l'altre objecte Series, la valoració mitjana en IMDB"
      ],
      "metadata": {
        "id": "OtGiG6dK44K4"
      }
    },
    {
      "cell_type": "code",
      "source": [
        "series_votos = dataframe[(dataframe['releaseYear'] >= 2000) & (dataframe['type'] == 'Movie')].groupby('releaseYear')['imdbNumVotes'].sum()\n",
        "series_media = dataframe[(dataframe['releaseYear'] >= 2000) & (dataframe['type'] == 'Movie')].groupby('releaseYear')['imdbAverageRating'].mean()\n",
        "print(series_votos)\n",
        "print(series_media)"
      ],
      "metadata": {
        "id": "C4pXowb8uWvR",
        "colab": {
          "base_uri": "https://localhost:8080/"
        },
        "outputId": "1f2f5edf-0b2f-46e5-ae47-ab72c4655316"
      },
      "execution_count": null,
      "outputs": [
        {
          "output_type": "stream",
          "name": "stdout",
          "text": [
            "releaseYear\n",
            "2000.0    16401181.0\n",
            "2001.0    17750029.0\n",
            "2002.0    18704791.0\n",
            "2003.0    18507717.0\n",
            "2004.0    22143258.0\n",
            "2005.0    20599881.0\n",
            "2006.0    21669495.0\n",
            "2007.0    24450134.0\n",
            "2008.0    29075591.0\n",
            "2009.0    25880648.0\n",
            "2010.0    27109881.0\n",
            "2011.0    28939339.0\n",
            "2012.0    31933605.0\n",
            "2013.0    34682419.0\n",
            "2014.0    35413300.0\n",
            "2015.0    26866731.0\n",
            "2016.0    28199097.0\n",
            "2017.0    24693376.0\n",
            "2018.0    21507364.0\n",
            "2019.0    19517747.0\n",
            "2020.0     4513403.0\n",
            "2021.0     5978655.0\n",
            "2022.0     7124137.0\n",
            "2023.0     4672335.0\n",
            "2024.0     1471987.0\n",
            "Name: imdbNumVotes, dtype: float64\n",
            "releaseYear\n",
            "2000.0    5.646019\n",
            "2001.0    5.801575\n",
            "2002.0    5.813485\n",
            "2003.0    5.810556\n",
            "2004.0    5.865909\n",
            "2005.0    5.747874\n",
            "2006.0    5.756978\n",
            "2007.0    5.732648\n",
            "2008.0    5.714068\n",
            "2009.0    5.796257\n",
            "2010.0    5.790670\n",
            "2011.0    5.737143\n",
            "2012.0    5.801961\n",
            "2013.0    5.762973\n",
            "2014.0    5.824785\n",
            "2015.0    5.772575\n",
            "2016.0    5.761247\n",
            "2017.0    5.762633\n",
            "2018.0    5.754522\n",
            "2019.0    5.676308\n",
            "2020.0    5.419111\n",
            "2021.0    5.832203\n",
            "2022.0    5.883607\n",
            "2023.0    5.975556\n",
            "2024.0    5.723171\n",
            "Name: imdbAverageRating, dtype: float64\n"
          ]
        }
      ]
    },
    {
      "cell_type": "markdown",
      "source": [
        "**2.7.** A partir d'aquests dos objectes Series de l'apartat anterior, crea un nou objecte DataFrame amb 3 columnes:\n",
        "* Any\n",
        "* Vots en IMDB\n",
        "* Valoració mitjana en IMDB"
      ],
      "metadata": {
        "id": "R9EXmG5FOLNe"
      }
    },
    {
      "cell_type": "code",
      "source": [
        "nuevo_df = pd.DataFrame({'Any': series_votos.index,\n",
        "                         'Vots en IMDB': series_votos.values,\n",
        "                         'Valoración media en IMDB': series_media.values})\n",
        "nuevo_df"
      ],
      "metadata": {
        "id": "8uDFFE45OuBd",
        "colab": {
          "base_uri": "https://localhost:8080/",
          "height": 833
        },
        "outputId": "633acdbd-ea05-4109-d769-5416e9d22fc1"
      },
      "execution_count": null,
      "outputs": [
        {
          "output_type": "execute_result",
          "data": {
            "text/plain": [
              "       Any  Vots en IMDB  Valoración media en IMDB\n",
              "0   2000.0    16401181.0                  5.646019\n",
              "1   2001.0    17750029.0                  5.801575\n",
              "2   2002.0    18704791.0                  5.813485\n",
              "3   2003.0    18507717.0                  5.810556\n",
              "4   2004.0    22143258.0                  5.865909\n",
              "5   2005.0    20599881.0                  5.747874\n",
              "6   2006.0    21669495.0                  5.756978\n",
              "7   2007.0    24450134.0                  5.732648\n",
              "8   2008.0    29075591.0                  5.714068\n",
              "9   2009.0    25880648.0                  5.796257\n",
              "10  2010.0    27109881.0                  5.790670\n",
              "11  2011.0    28939339.0                  5.737143\n",
              "12  2012.0    31933605.0                  5.801961\n",
              "13  2013.0    34682419.0                  5.762973\n",
              "14  2014.0    35413300.0                  5.824785\n",
              "15  2015.0    26866731.0                  5.772575\n",
              "16  2016.0    28199097.0                  5.761247\n",
              "17  2017.0    24693376.0                  5.762633\n",
              "18  2018.0    21507364.0                  5.754522\n",
              "19  2019.0    19517747.0                  5.676308\n",
              "20  2020.0     4513403.0                  5.419111\n",
              "21  2021.0     5978655.0                  5.832203\n",
              "22  2022.0     7124137.0                  5.883607\n",
              "23  2023.0     4672335.0                  5.975556\n",
              "24  2024.0     1471987.0                  5.723171"
            ],
            "text/html": [
              "\n",
              "  <div id=\"df-2fc85a9f-15f4-4282-bbbd-d56ca64167fe\" class=\"colab-df-container\">\n",
              "    <div>\n",
              "<style scoped>\n",
              "    .dataframe tbody tr th:only-of-type {\n",
              "        vertical-align: middle;\n",
              "    }\n",
              "\n",
              "    .dataframe tbody tr th {\n",
              "        vertical-align: top;\n",
              "    }\n",
              "\n",
              "    .dataframe thead th {\n",
              "        text-align: right;\n",
              "    }\n",
              "</style>\n",
              "<table border=\"1\" class=\"dataframe\">\n",
              "  <thead>\n",
              "    <tr style=\"text-align: right;\">\n",
              "      <th></th>\n",
              "      <th>Any</th>\n",
              "      <th>Vots en IMDB</th>\n",
              "      <th>Valoración media en IMDB</th>\n",
              "    </tr>\n",
              "  </thead>\n",
              "  <tbody>\n",
              "    <tr>\n",
              "      <th>0</th>\n",
              "      <td>2000.0</td>\n",
              "      <td>16401181.0</td>\n",
              "      <td>5.646019</td>\n",
              "    </tr>\n",
              "    <tr>\n",
              "      <th>1</th>\n",
              "      <td>2001.0</td>\n",
              "      <td>17750029.0</td>\n",
              "      <td>5.801575</td>\n",
              "    </tr>\n",
              "    <tr>\n",
              "      <th>2</th>\n",
              "      <td>2002.0</td>\n",
              "      <td>18704791.0</td>\n",
              "      <td>5.813485</td>\n",
              "    </tr>\n",
              "    <tr>\n",
              "      <th>3</th>\n",
              "      <td>2003.0</td>\n",
              "      <td>18507717.0</td>\n",
              "      <td>5.810556</td>\n",
              "    </tr>\n",
              "    <tr>\n",
              "      <th>4</th>\n",
              "      <td>2004.0</td>\n",
              "      <td>22143258.0</td>\n",
              "      <td>5.865909</td>\n",
              "    </tr>\n",
              "    <tr>\n",
              "      <th>5</th>\n",
              "      <td>2005.0</td>\n",
              "      <td>20599881.0</td>\n",
              "      <td>5.747874</td>\n",
              "    </tr>\n",
              "    <tr>\n",
              "      <th>6</th>\n",
              "      <td>2006.0</td>\n",
              "      <td>21669495.0</td>\n",
              "      <td>5.756978</td>\n",
              "    </tr>\n",
              "    <tr>\n",
              "      <th>7</th>\n",
              "      <td>2007.0</td>\n",
              "      <td>24450134.0</td>\n",
              "      <td>5.732648</td>\n",
              "    </tr>\n",
              "    <tr>\n",
              "      <th>8</th>\n",
              "      <td>2008.0</td>\n",
              "      <td>29075591.0</td>\n",
              "      <td>5.714068</td>\n",
              "    </tr>\n",
              "    <tr>\n",
              "      <th>9</th>\n",
              "      <td>2009.0</td>\n",
              "      <td>25880648.0</td>\n",
              "      <td>5.796257</td>\n",
              "    </tr>\n",
              "    <tr>\n",
              "      <th>10</th>\n",
              "      <td>2010.0</td>\n",
              "      <td>27109881.0</td>\n",
              "      <td>5.790670</td>\n",
              "    </tr>\n",
              "    <tr>\n",
              "      <th>11</th>\n",
              "      <td>2011.0</td>\n",
              "      <td>28939339.0</td>\n",
              "      <td>5.737143</td>\n",
              "    </tr>\n",
              "    <tr>\n",
              "      <th>12</th>\n",
              "      <td>2012.0</td>\n",
              "      <td>31933605.0</td>\n",
              "      <td>5.801961</td>\n",
              "    </tr>\n",
              "    <tr>\n",
              "      <th>13</th>\n",
              "      <td>2013.0</td>\n",
              "      <td>34682419.0</td>\n",
              "      <td>5.762973</td>\n",
              "    </tr>\n",
              "    <tr>\n",
              "      <th>14</th>\n",
              "      <td>2014.0</td>\n",
              "      <td>35413300.0</td>\n",
              "      <td>5.824785</td>\n",
              "    </tr>\n",
              "    <tr>\n",
              "      <th>15</th>\n",
              "      <td>2015.0</td>\n",
              "      <td>26866731.0</td>\n",
              "      <td>5.772575</td>\n",
              "    </tr>\n",
              "    <tr>\n",
              "      <th>16</th>\n",
              "      <td>2016.0</td>\n",
              "      <td>28199097.0</td>\n",
              "      <td>5.761247</td>\n",
              "    </tr>\n",
              "    <tr>\n",
              "      <th>17</th>\n",
              "      <td>2017.0</td>\n",
              "      <td>24693376.0</td>\n",
              "      <td>5.762633</td>\n",
              "    </tr>\n",
              "    <tr>\n",
              "      <th>18</th>\n",
              "      <td>2018.0</td>\n",
              "      <td>21507364.0</td>\n",
              "      <td>5.754522</td>\n",
              "    </tr>\n",
              "    <tr>\n",
              "      <th>19</th>\n",
              "      <td>2019.0</td>\n",
              "      <td>19517747.0</td>\n",
              "      <td>5.676308</td>\n",
              "    </tr>\n",
              "    <tr>\n",
              "      <th>20</th>\n",
              "      <td>2020.0</td>\n",
              "      <td>4513403.0</td>\n",
              "      <td>5.419111</td>\n",
              "    </tr>\n",
              "    <tr>\n",
              "      <th>21</th>\n",
              "      <td>2021.0</td>\n",
              "      <td>5978655.0</td>\n",
              "      <td>5.832203</td>\n",
              "    </tr>\n",
              "    <tr>\n",
              "      <th>22</th>\n",
              "      <td>2022.0</td>\n",
              "      <td>7124137.0</td>\n",
              "      <td>5.883607</td>\n",
              "    </tr>\n",
              "    <tr>\n",
              "      <th>23</th>\n",
              "      <td>2023.0</td>\n",
              "      <td>4672335.0</td>\n",
              "      <td>5.975556</td>\n",
              "    </tr>\n",
              "    <tr>\n",
              "      <th>24</th>\n",
              "      <td>2024.0</td>\n",
              "      <td>1471987.0</td>\n",
              "      <td>5.723171</td>\n",
              "    </tr>\n",
              "  </tbody>\n",
              "</table>\n",
              "</div>\n",
              "    <div class=\"colab-df-buttons\">\n",
              "\n",
              "  <div class=\"colab-df-container\">\n",
              "    <button class=\"colab-df-convert\" onclick=\"convertToInteractive('df-2fc85a9f-15f4-4282-bbbd-d56ca64167fe')\"\n",
              "            title=\"Convert this dataframe to an interactive table.\"\n",
              "            style=\"display:none;\">\n",
              "\n",
              "  <svg xmlns=\"http://www.w3.org/2000/svg\" height=\"24px\" viewBox=\"0 -960 960 960\">\n",
              "    <path d=\"M120-120v-720h720v720H120Zm60-500h600v-160H180v160Zm220 220h160v-160H400v160Zm0 220h160v-160H400v160ZM180-400h160v-160H180v160Zm440 0h160v-160H620v160ZM180-180h160v-160H180v160Zm440 0h160v-160H620v160Z\"/>\n",
              "  </svg>\n",
              "    </button>\n",
              "\n",
              "  <style>\n",
              "    .colab-df-container {\n",
              "      display:flex;\n",
              "      gap: 12px;\n",
              "    }\n",
              "\n",
              "    .colab-df-convert {\n",
              "      background-color: #E8F0FE;\n",
              "      border: none;\n",
              "      border-radius: 50%;\n",
              "      cursor: pointer;\n",
              "      display: none;\n",
              "      fill: #1967D2;\n",
              "      height: 32px;\n",
              "      padding: 0 0 0 0;\n",
              "      width: 32px;\n",
              "    }\n",
              "\n",
              "    .colab-df-convert:hover {\n",
              "      background-color: #E2EBFA;\n",
              "      box-shadow: 0px 1px 2px rgba(60, 64, 67, 0.3), 0px 1px 3px 1px rgba(60, 64, 67, 0.15);\n",
              "      fill: #174EA6;\n",
              "    }\n",
              "\n",
              "    .colab-df-buttons div {\n",
              "      margin-bottom: 4px;\n",
              "    }\n",
              "\n",
              "    [theme=dark] .colab-df-convert {\n",
              "      background-color: #3B4455;\n",
              "      fill: #D2E3FC;\n",
              "    }\n",
              "\n",
              "    [theme=dark] .colab-df-convert:hover {\n",
              "      background-color: #434B5C;\n",
              "      box-shadow: 0px 1px 3px 1px rgba(0, 0, 0, 0.15);\n",
              "      filter: drop-shadow(0px 1px 2px rgba(0, 0, 0, 0.3));\n",
              "      fill: #FFFFFF;\n",
              "    }\n",
              "  </style>\n",
              "\n",
              "    <script>\n",
              "      const buttonEl =\n",
              "        document.querySelector('#df-2fc85a9f-15f4-4282-bbbd-d56ca64167fe button.colab-df-convert');\n",
              "      buttonEl.style.display =\n",
              "        google.colab.kernel.accessAllowed ? 'block' : 'none';\n",
              "\n",
              "      async function convertToInteractive(key) {\n",
              "        const element = document.querySelector('#df-2fc85a9f-15f4-4282-bbbd-d56ca64167fe');\n",
              "        const dataTable =\n",
              "          await google.colab.kernel.invokeFunction('convertToInteractive',\n",
              "                                                    [key], {});\n",
              "        if (!dataTable) return;\n",
              "\n",
              "        const docLinkHtml = 'Like what you see? Visit the ' +\n",
              "          '<a target=\"_blank\" href=https://colab.research.google.com/notebooks/data_table.ipynb>data table notebook</a>'\n",
              "          + ' to learn more about interactive tables.';\n",
              "        element.innerHTML = '';\n",
              "        dataTable['output_type'] = 'display_data';\n",
              "        await google.colab.output.renderOutput(dataTable, element);\n",
              "        const docLink = document.createElement('div');\n",
              "        docLink.innerHTML = docLinkHtml;\n",
              "        element.appendChild(docLink);\n",
              "      }\n",
              "    </script>\n",
              "  </div>\n",
              "\n",
              "\n",
              "<div id=\"df-eabf2850-3878-4efb-b131-47fdf6891e07\">\n",
              "  <button class=\"colab-df-quickchart\" onclick=\"quickchart('df-eabf2850-3878-4efb-b131-47fdf6891e07')\"\n",
              "            title=\"Suggest charts\"\n",
              "            style=\"display:none;\">\n",
              "\n",
              "<svg xmlns=\"http://www.w3.org/2000/svg\" height=\"24px\"viewBox=\"0 0 24 24\"\n",
              "     width=\"24px\">\n",
              "    <g>\n",
              "        <path d=\"M19 3H5c-1.1 0-2 .9-2 2v14c0 1.1.9 2 2 2h14c1.1 0 2-.9 2-2V5c0-1.1-.9-2-2-2zM9 17H7v-7h2v7zm4 0h-2V7h2v10zm4 0h-2v-4h2v4z\"/>\n",
              "    </g>\n",
              "</svg>\n",
              "  </button>\n",
              "\n",
              "<style>\n",
              "  .colab-df-quickchart {\n",
              "      --bg-color: #E8F0FE;\n",
              "      --fill-color: #1967D2;\n",
              "      --hover-bg-color: #E2EBFA;\n",
              "      --hover-fill-color: #174EA6;\n",
              "      --disabled-fill-color: #AAA;\n",
              "      --disabled-bg-color: #DDD;\n",
              "  }\n",
              "\n",
              "  [theme=dark] .colab-df-quickchart {\n",
              "      --bg-color: #3B4455;\n",
              "      --fill-color: #D2E3FC;\n",
              "      --hover-bg-color: #434B5C;\n",
              "      --hover-fill-color: #FFFFFF;\n",
              "      --disabled-bg-color: #3B4455;\n",
              "      --disabled-fill-color: #666;\n",
              "  }\n",
              "\n",
              "  .colab-df-quickchart {\n",
              "    background-color: var(--bg-color);\n",
              "    border: none;\n",
              "    border-radius: 50%;\n",
              "    cursor: pointer;\n",
              "    display: none;\n",
              "    fill: var(--fill-color);\n",
              "    height: 32px;\n",
              "    padding: 0;\n",
              "    width: 32px;\n",
              "  }\n",
              "\n",
              "  .colab-df-quickchart:hover {\n",
              "    background-color: var(--hover-bg-color);\n",
              "    box-shadow: 0 1px 2px rgba(60, 64, 67, 0.3), 0 1px 3px 1px rgba(60, 64, 67, 0.15);\n",
              "    fill: var(--button-hover-fill-color);\n",
              "  }\n",
              "\n",
              "  .colab-df-quickchart-complete:disabled,\n",
              "  .colab-df-quickchart-complete:disabled:hover {\n",
              "    background-color: var(--disabled-bg-color);\n",
              "    fill: var(--disabled-fill-color);\n",
              "    box-shadow: none;\n",
              "  }\n",
              "\n",
              "  .colab-df-spinner {\n",
              "    border: 2px solid var(--fill-color);\n",
              "    border-color: transparent;\n",
              "    border-bottom-color: var(--fill-color);\n",
              "    animation:\n",
              "      spin 1s steps(1) infinite;\n",
              "  }\n",
              "\n",
              "  @keyframes spin {\n",
              "    0% {\n",
              "      border-color: transparent;\n",
              "      border-bottom-color: var(--fill-color);\n",
              "      border-left-color: var(--fill-color);\n",
              "    }\n",
              "    20% {\n",
              "      border-color: transparent;\n",
              "      border-left-color: var(--fill-color);\n",
              "      border-top-color: var(--fill-color);\n",
              "    }\n",
              "    30% {\n",
              "      border-color: transparent;\n",
              "      border-left-color: var(--fill-color);\n",
              "      border-top-color: var(--fill-color);\n",
              "      border-right-color: var(--fill-color);\n",
              "    }\n",
              "    40% {\n",
              "      border-color: transparent;\n",
              "      border-right-color: var(--fill-color);\n",
              "      border-top-color: var(--fill-color);\n",
              "    }\n",
              "    60% {\n",
              "      border-color: transparent;\n",
              "      border-right-color: var(--fill-color);\n",
              "    }\n",
              "    80% {\n",
              "      border-color: transparent;\n",
              "      border-right-color: var(--fill-color);\n",
              "      border-bottom-color: var(--fill-color);\n",
              "    }\n",
              "    90% {\n",
              "      border-color: transparent;\n",
              "      border-bottom-color: var(--fill-color);\n",
              "    }\n",
              "  }\n",
              "</style>\n",
              "\n",
              "  <script>\n",
              "    async function quickchart(key) {\n",
              "      const quickchartButtonEl =\n",
              "        document.querySelector('#' + key + ' button');\n",
              "      quickchartButtonEl.disabled = true;  // To prevent multiple clicks.\n",
              "      quickchartButtonEl.classList.add('colab-df-spinner');\n",
              "      try {\n",
              "        const charts = await google.colab.kernel.invokeFunction(\n",
              "            'suggestCharts', [key], {});\n",
              "      } catch (error) {\n",
              "        console.error('Error during call to suggestCharts:', error);\n",
              "      }\n",
              "      quickchartButtonEl.classList.remove('colab-df-spinner');\n",
              "      quickchartButtonEl.classList.add('colab-df-quickchart-complete');\n",
              "    }\n",
              "    (() => {\n",
              "      let quickchartButtonEl =\n",
              "        document.querySelector('#df-eabf2850-3878-4efb-b131-47fdf6891e07 button');\n",
              "      quickchartButtonEl.style.display =\n",
              "        google.colab.kernel.accessAllowed ? 'block' : 'none';\n",
              "    })();\n",
              "  </script>\n",
              "</div>\n",
              "\n",
              "  <div id=\"id_ae2879a0-05ac-42b4-98d5-2f3eea4b3882\">\n",
              "    <style>\n",
              "      .colab-df-generate {\n",
              "        background-color: #E8F0FE;\n",
              "        border: none;\n",
              "        border-radius: 50%;\n",
              "        cursor: pointer;\n",
              "        display: none;\n",
              "        fill: #1967D2;\n",
              "        height: 32px;\n",
              "        padding: 0 0 0 0;\n",
              "        width: 32px;\n",
              "      }\n",
              "\n",
              "      .colab-df-generate:hover {\n",
              "        background-color: #E2EBFA;\n",
              "        box-shadow: 0px 1px 2px rgba(60, 64, 67, 0.3), 0px 1px 3px 1px rgba(60, 64, 67, 0.15);\n",
              "        fill: #174EA6;\n",
              "      }\n",
              "\n",
              "      [theme=dark] .colab-df-generate {\n",
              "        background-color: #3B4455;\n",
              "        fill: #D2E3FC;\n",
              "      }\n",
              "\n",
              "      [theme=dark] .colab-df-generate:hover {\n",
              "        background-color: #434B5C;\n",
              "        box-shadow: 0px 1px 3px 1px rgba(0, 0, 0, 0.15);\n",
              "        filter: drop-shadow(0px 1px 2px rgba(0, 0, 0, 0.3));\n",
              "        fill: #FFFFFF;\n",
              "      }\n",
              "    </style>\n",
              "    <button class=\"colab-df-generate\" onclick=\"generateWithVariable('nuevo_df')\"\n",
              "            title=\"Generate code using this dataframe.\"\n",
              "            style=\"display:none;\">\n",
              "\n",
              "  <svg xmlns=\"http://www.w3.org/2000/svg\" height=\"24px\"viewBox=\"0 0 24 24\"\n",
              "       width=\"24px\">\n",
              "    <path d=\"M7,19H8.4L18.45,9,17,7.55,7,17.6ZM5,21V16.75L18.45,3.32a2,2,0,0,1,2.83,0l1.4,1.43a1.91,1.91,0,0,1,.58,1.4,1.91,1.91,0,0,1-.58,1.4L9.25,21ZM18.45,9,17,7.55Zm-12,3A5.31,5.31,0,0,0,4.9,8.1,5.31,5.31,0,0,0,1,6.5,5.31,5.31,0,0,0,4.9,4.9,5.31,5.31,0,0,0,6.5,1,5.31,5.31,0,0,0,8.1,4.9,5.31,5.31,0,0,0,12,6.5,5.46,5.46,0,0,0,6.5,12Z\"/>\n",
              "  </svg>\n",
              "    </button>\n",
              "    <script>\n",
              "      (() => {\n",
              "      const buttonEl =\n",
              "        document.querySelector('#id_ae2879a0-05ac-42b4-98d5-2f3eea4b3882 button.colab-df-generate');\n",
              "      buttonEl.style.display =\n",
              "        google.colab.kernel.accessAllowed ? 'block' : 'none';\n",
              "\n",
              "      buttonEl.onclick = () => {\n",
              "        google.colab.notebook.generateWithVariable('nuevo_df');\n",
              "      }\n",
              "      })();\n",
              "    </script>\n",
              "  </div>\n",
              "\n",
              "    </div>\n",
              "  </div>\n"
            ],
            "application/vnd.google.colaboratory.intrinsic+json": {
              "type": "dataframe",
              "variable_name": "nuevo_df",
              "summary": "{\n  \"name\": \"nuevo_df\",\n  \"rows\": 25,\n  \"fields\": [\n    {\n      \"column\": \"Any\",\n      \"properties\": {\n        \"dtype\": \"number\",\n        \"std\": 7.359800721939872,\n        \"min\": 2000.0,\n        \"max\": 2024.0,\n        \"num_unique_values\": 25,\n        \"samples\": [\n          2008.0,\n          2016.0,\n          2000.0\n        ],\n        \"semantic_type\": \"\",\n        \"description\": \"\"\n      }\n    },\n    {\n      \"column\": \"Vots en IMDB\",\n      \"properties\": {\n        \"dtype\": \"number\",\n        \"std\": 9572312.538266921,\n        \"min\": 1471987.0,\n        \"max\": 35413300.0,\n        \"num_unique_values\": 25,\n        \"samples\": [\n          29075591.0,\n          28199097.0,\n          16401181.0\n        ],\n        \"semantic_type\": \"\",\n        \"description\": \"\"\n      }\n    },\n    {\n      \"column\": \"Valoraci\\u00f3n media en IMDB\",\n      \"properties\": {\n        \"dtype\": \"number\",\n        \"std\": 0.09869078124349653,\n        \"min\": 5.4191111111111105,\n        \"max\": 5.975555555555556,\n        \"num_unique_values\": 25,\n        \"samples\": [\n          5.714067611777535,\n          5.761247311827957,\n          5.646019417475728\n        ],\n        \"semantic_type\": \"\",\n        \"description\": \"\"\n      }\n    }\n  ]\n}"
            }
          },
          "metadata": {},
          "execution_count": 48
        }
      ]
    },
    {
      "cell_type": "markdown",
      "source": [
        "**2.8.** Guarda el nou objecte DataFrame en un fitxer CSV al directori 'prime' de la teva unitat de Google Drive.\n",
        "\n",
        "---\n",
        "\n"
      ],
      "metadata": {
        "id": "flCXcjVnOh6n"
      }
    },
    {
      "cell_type": "code",
      "source": [
        "from google.colab import drive\n",
        "\n",
        "drive.mount('/drive', force_remount=True)\n",
        "nuevo_df.to_csv('/drive/MyDrive/Colab Notebooks/prime.csv')"
      ],
      "metadata": {
        "id": "mQio9WLiOg49",
        "colab": {
          "base_uri": "https://localhost:8080/"
        },
        "outputId": "6110b7f5-ebe9-4715-903c-e4d122323ff8"
      },
      "execution_count": null,
      "outputs": [
        {
          "output_type": "stream",
          "name": "stdout",
          "text": [
            "Mounted at /drive\n"
          ]
        }
      ]
    },
    {
      "cell_type": "markdown",
      "source": [
        "##Bloc 3: Matplotlib\n",
        "\n",
        "A partir del DataFrame de les sèries i pel·lícules d'Amazon Prime del bloc anterior, representa amb Matplotlib una figura amb quatre subplots, organitzats en dues files i dues columnes, d'aquesta manera:\n",
        "* Superior esquerra: histograma per al nombre de vots en IMDB\n",
        "* Superior dreta: histograma per a la valoració mitjana en IMDB\n",
        "* Inferior esquerra: nigul de punts on es relacionen el nombre de vots en IMDB amb la valoració mitjana en IMDB.\n",
        "* Inferior dreta: diagrama de punts i línies que mostri la variació per anys de la valoració mitjana en IMDB de les pel·lícules llançades des del 2000 (dataframe de l'apartat 2.7).\n",
        "\n",
        "Cada subplot ha de mostrar el títol corresponent i els eixos han d'incloure marques i una etiqueta descriptiva. A més, el gràfic de cada subplot ha d'utilitzar un color diferent.\n",
        "\n",
        "Tots els elements han de quedar disposats de manera que es pugui veure tot de manera correcta.\n",
        "\n",
        "Finalment, fes que es descarregui una imatge de la teva figura."
      ],
      "metadata": {
        "id": "W1RrLTsx8RPZ"
      }
    },
    {
      "cell_type": "code",
      "source": [
        "import matplotlib.pyplot as plt\n",
        "\n",
        "fig = plt.figure(figsize=(15,15))\n",
        "sp1 = fig.add_subplot(2,2,1)\n",
        "sp2 = fig.add_subplot(2,2,2)\n",
        "sp3 = fig.add_subplot(2,2,3)\n",
        "sp4 = fig.add_subplot(2,2,4)\n",
        "\n",
        "sp1.set_title('Histograma del número de votos en IMDB')\n",
        "sp1.set_xlabel('Numero de votos')\n",
        "sp1.set_ylabel('Frecuencia')\n",
        "sp1.hist(dataframe['imdbNumVotes'], color='red')\n",
        "\n",
        "sp2.set_title('Histograma de la valoración media en IMDB')\n",
        "sp2.set_xlabel('Media IMDB')\n",
        "sp2.set_ylabel('Frecuencia')\n",
        "sp2.hist(dataframe['imdbAverageRating'], color='blue')\n",
        "\n",
        "sp3.set_title('Relación votos IMDB - media IMDB')\n",
        "sp3.set_xlabel('Número de Votos')\n",
        "sp3.set_ylabel('Valoración Media IMDB')\n",
        "sp3.scatter(dataframe['imdbNumVotes'], dataframe['imdbAverageRating'], color='green')\n",
        "\n",
        "sp4.set_title('Variación por años media IMDB')\n",
        "sp4.set_xlabel('Año')\n",
        "sp4.set_ylabel('Valoración media IMDB')\n",
        "sp4.plot(nuevo_df['Any'], nuevo_df['Valoración media en IMDB'], marker='o', color='black')\n",
        "\n",
        "plt.show()\n",
        "plt.savefig('imagen.png')\n"
      ],
      "metadata": {
        "id": "n4pk5262QCD3",
        "colab": {
          "base_uri": "https://localhost:8080/",
          "height": 1000
        },
        "outputId": "680ac8c4-824b-4483-eb97-c1cd8127a5e0"
      },
      "execution_count": null,
      "outputs": [
        {
          "output_type": "display_data",
          "data": {
            "text/plain": [
              "<Figure size 1500x1500 with 4 Axes>"
            ],
            "image/png": "[encoded data removed]"
          },
          "metadata": {}
        },
        {
          "output_type": "display_data",
          "data": {
            "text/plain": [
              "<Figure size 640x480 with 0 Axes>"
            ]
          },
          "metadata": {}
        }
      ]
    }
  ]
}